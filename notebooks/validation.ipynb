{
 "cells": [
  {
   "cell_type": "markdown",
   "metadata": {},
   "source": [
    "#### Setup"
   ]
  },
  {
   "cell_type": "code",
   "execution_count": 1,
   "metadata": {},
   "outputs": [],
   "source": [
    "# Import dataset class and accuracy functions\n",
    "from __init__ import (PricingWizardDataset, \n",
    "                      regression_accuracy, \n",
    "                      threshold_accuracy, \n",
    "                      base_regression_pipeline, \n",
    "                      ridge_regression_pipeline,\n",
    "                      RegressionNN,\n",
    "                      load_model,\n",
    "                      drop_helpers,\n",
    "                      test,\n",
    "                      set_device)\n",
    "\n",
    "# Model loading imports\n",
    "import joblib\n",
    "import torch\n",
    "\n",
    "# Import other libraries\n",
    "import numpy as np\n",
    "import pandas as pd\n",
    "import matplotlib.pyplot as plt\n",
    "import seaborn as sns\n",
    "import os\n",
    "# Others..."
   ]
  },
  {
   "cell_type": "code",
   "execution_count": 2,
   "metadata": {},
   "outputs": [
    {
     "name": "stdout",
     "output_type": "stream",
     "text": [
      "Dataset Loaded: post_preprocessing_without_dummies\n",
      "\tNumber of Rows: 283055\n",
      "\tNumber of Columns: 22\n",
      "\tOutlier Removal: True\n",
      "\tTrain Size: 0.8\n",
      "\tTest Size: 0.2\n",
      "\tRandom State: 42\n"
     ]
    }
   ],
   "source": [
    "# Load Data\n",
    "data = PricingWizardDataset()"
   ]
  },
  {
   "cell_type": "code",
   "execution_count": 3,
   "metadata": {},
   "outputs": [],
   "source": [
    "# Current working directory\n",
    "cwd = os.getcwd()\n",
    "\n",
    "# model directory\n",
    "model_dir = os.path.join(cwd, 'models', 'pickled_models')"
   ]
  },
  {
   "cell_type": "code",
   "execution_count": 4,
   "metadata": {},
   "outputs": [
    {
     "data": {
      "text/plain": [
       "['.DS_Store',\n",
       " 'regression_neural_net.pkl',\n",
       " 'regularized_regression.pkl',\n",
       " 'base_regression.pkl']"
      ]
     },
     "execution_count": 4,
     "metadata": {},
     "output_type": "execute_result"
    }
   ],
   "source": [
    "# Files in model directory\n",
    "os.listdir(model_dir)"
   ]
  },
  {
   "cell_type": "markdown",
   "metadata": {},
   "source": [
    "#### Base Regression Model"
   ]
  },
  {
   "cell_type": "code",
   "execution_count": 5,
   "metadata": {},
   "outputs": [],
   "source": [
    "# Reset dataset as standard\n",
    "data.reset_dataset()"
   ]
  },
  {
   "cell_type": "code",
   "execution_count": 6,
   "metadata": {},
   "outputs": [
    {
     "name": "stdout",
     "output_type": "stream",
     "text": [
      "Model loaded successfully from /Users/rasmuskrebs/Documents/School/semester_3/data_mining/pricing_wizards/models/pickled_models/base_regression.pkl\n",
      "Dependent variable distribution is equal across all subsets\n"
     ]
    }
   ],
   "source": [
    "# Perform preprocessing\n",
    "data.apply_function(base_regression_pipeline)\n",
    "\n",
    "\n",
    "# Load model\n",
    "base_regression = load_model(f'{model_dir}/base_regression.pkl')\n",
    "\n",
    "# Split\n",
    "_, X_test, _, y_test = data.stratify_train_test_split(val_size=0,\n",
    "                                                      y_column='log_listing_price')"
   ]
  },
  {
   "cell_type": "code",
   "execution_count": 7,
   "metadata": {},
   "outputs": [
    {
     "name": "stdout",
     "output_type": "stream",
     "text": [
      "Log Scale Accuracy\n",
      "R2 Score: 0.5454074633046996\n",
      "MSE: 0.43798999970075375\n",
      "MAE 0.5134088438732489\n",
      "RMSE 0.6618081290682019\n",
      "Threshold Accuracy 0.6385154828566886\n",
      "\n",
      "Original Scale Accuracy\n",
      "R2 Score: 0.3491713283801632\n",
      "MSE: 193549.2874597735\n",
      "MAE 211.4213411969003\n",
      "RMSE 439.9423683390513\n",
      "Threshold Accuracy 0.12686580346575754\n"
     ]
    }
   ],
   "source": [
    "# Predict\n",
    "regression_prediction = base_regression.predict(drop_helpers(X_test))\n",
    "\n",
    "# Calculate accuracy\n",
    "print('Log Scale Accuracy')\n",
    "regression_accuracy(regression_prediction, y_test)\n",
    "threshold_accuracy(regression_prediction, y_test, p=0.1)\n",
    "\n",
    "print('\\nOriginal Scale Accuracy')\n",
    "regression_accuracy(regression_prediction, y_test, return_metrics=False, scale_up=True)\n",
    "threshold_accuracy(regression_prediction, y_test, p=0.1, scale_up=True)"
   ]
  },
  {
   "cell_type": "markdown",
   "metadata": {},
   "source": [
    "#### Regularized Regression Model"
   ]
  },
  {
   "cell_type": "code",
   "execution_count": 8,
   "metadata": {},
   "outputs": [
    {
     "name": "stdout",
     "output_type": "stream",
     "text": [
      "Model loaded successfully from /Users/rasmuskrebs/Documents/School/semester_3/data_mining/pricing_wizards/models/pickled_models/regularized_regression.pkl\n",
      "Dependent variable distribution is equal across all subsets\n"
     ]
    }
   ],
   "source": [
    "# Reset dataset as standard\n",
    "data.reset_dataset()\n",
    "\n",
    "# Perform preprocessing\n",
    "data.apply_function(ridge_regression_pipeline)\n",
    "\n",
    "# Load model\n",
    "ridge_regression = load_model(f'{model_dir}/regularized_regression.pkl')\n",
    "\n",
    "# Split\n",
    "_, X_test, _, y_test = data.stratify_train_test_split(val_size=0,\n",
    "                                                      y_column='log_listing_price')"
   ]
  },
  {
   "cell_type": "code",
   "execution_count": 9,
   "metadata": {},
   "outputs": [
    {
     "name": "stdout",
     "output_type": "stream",
     "text": [
      "Log Scale Accuracy\n",
      "R2 Score: 0.5454074633046996\n",
      "MSE: 0.43798999970075375\n",
      "MAE 0.5134088438732489\n",
      "RMSE 0.6618081290682019\n",
      "Threshold Accuracy 0.6385154828566886\n",
      "\n",
      "Original Scale Accuracy\n",
      "R2 Score: 0.3491713283801632\n",
      "MSE: 193549.2874597735\n",
      "MAE 211.4213411969003\n",
      "RMSE 439.9423683390513\n",
      "Threshold Accuracy 0.12686580346575754\n"
     ]
    }
   ],
   "source": [
    "# Predict\n",
    "reg_regression_prediction = ridge_regression.predict(drop_helpers(X_test))\n",
    "\n",
    "# Calculate accuracy\n",
    "print('Log Scale Accuracy')\n",
    "regression_accuracy(regression_prediction, y_test)\n",
    "threshold_accuracy(regression_prediction, y_test, p=0.1)\n",
    "\n",
    "print('\\nOriginal Scale Accuracy')\n",
    "regression_accuracy(regression_prediction, y_test, scale_up=True)\n",
    "threshold_accuracy(regression_prediction, y_test, p=0.1, scale_up=True)\n"
   ]
  },
  {
   "cell_type": "markdown",
   "metadata": {},
   "source": [
    "### Neural Net"
   ]
  },
  {
   "cell_type": "code",
   "execution_count": 23,
   "metadata": {},
   "outputs": [
    {
     "name": "stdout",
     "output_type": "stream",
     "text": [
      "Dependent variable distribution is equal across all subsets\n"
     ]
    }
   ],
   "source": [
    "# Reset dataset as standard\n",
    "data.reset_dataset()\n",
    "\n",
    "# Perform preprocessing\n",
    "data.apply_function(ridge_regression_pipeline)\n",
    "\n",
    "# Split data (Since validation is created on the training data, we can just exclude the argument here as it won't change test data)\n",
    "_, X_test, _, y_test = data.stratify_train_test_split(val_size=0,\n",
    "                                                      y_column='log_listing_price')\n",
    "\n",
    "# Make test dataset a tensor\n",
    "X_test_tensor = torch.tensor(drop_helpers(X_test).values, dtype=torch.float32)"
   ]
  },
  {
   "cell_type": "code",
   "execution_count": 24,
   "metadata": {},
   "outputs": [
    {
     "data": {
      "text/plain": [
       "<All keys matched successfully>"
      ]
     },
     "execution_count": 24,
     "metadata": {},
     "output_type": "execute_result"
    }
   ],
   "source": [
    "# Load model\n",
    "network = RegressionNN(input_size=drop_helpers(X_test).shape[1])\n",
    "\n",
    "# Load weights\n",
    "network.load_state_dict(torch.load(f'{model_dir}/regression_neural_net.pt'))"
   ]
  },
  {
   "cell_type": "code",
   "execution_count": 25,
   "metadata": {},
   "outputs": [],
   "source": [
    "# Determine device\n",
    "device = set_device()\n",
    "\n",
    "nn_prediction = test(network, X_test_tensor, device)"
   ]
  },
  {
   "cell_type": "code",
   "execution_count": 26,
   "metadata": {},
   "outputs": [
    {
     "name": "stdout",
     "output_type": "stream",
     "text": [
      "Log Scale Accuracy\n",
      "R2 Score: 0.6489673544113241\n",
      "MSE: 0.33821230206291775\n",
      "MAE 0.4363567338250978\n",
      "RMSE 0.5815602308126973\n",
      "Threshold Accuracy 0.7065411315822013\n",
      "\n",
      "Original Scale Accuracy\n",
      "R2 Score: 0.5519765521442916\n",
      "MSE: 133237.2448833896\n",
      "MAE 171.23982758015052\n",
      "RMSE 365.01677342745444\n",
      "Threshold Accuracy 0.16957835049725317\n"
     ]
    }
   ],
   "source": [
    "# Calculate accuracy\n",
    "print('Log Scale Accuracy')\n",
    "regression_accuracy(nn_prediction, y_test)\n",
    "threshold_accuracy(nn_prediction, y_test, p=0.1)\n",
    "\n",
    "print('\\nOriginal Scale Accuracy')\n",
    "regression_accuracy(nn_prediction, y_test, scale_up=True)\n",
    "threshold_accuracy(nn_prediction, y_test, p=0.1, scale_up=True)\n"
   ]
  }
 ],
 "metadata": {
  "kernelspec": {
   "display_name": "base",
   "language": "python",
   "name": "python3"
  },
  "language_info": {
   "codemirror_mode": {
    "name": "ipython",
    "version": 3
   },
   "file_extension": ".py",
   "mimetype": "text/x-python",
   "name": "python",
   "nbconvert_exporter": "python",
   "pygments_lexer": "ipython3",
   "version": "3.11.3"
  }
 },
 "nbformat": 4,
 "nbformat_minor": 2
}
