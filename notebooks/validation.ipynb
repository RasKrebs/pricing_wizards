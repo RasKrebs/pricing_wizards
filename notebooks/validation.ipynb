{
 "cells": [
  {
   "cell_type": "markdown",
   "metadata": {},
   "source": [
    "#### Setup"
   ]
  },
  {
   "cell_type": "code",
   "execution_count": 1,
   "metadata": {},
   "outputs": [],
   "source": [
    "# Import dataset class and accuracy functions\n",
    "from __init__ import PricingWizardDataset, regression_accuracy, threshold_accuracy, base_regression_pipeline, load_model\n",
    "\n",
    "# Model loading imports\n",
    "import joblib\n",
    "import torch\n",
    "\n",
    "# Import other libraries\n",
    "import numpy as np\n",
    "import pandas as pd\n",
    "import matplotlib.pyplot as plt\n",
    "import seaborn as sns\n",
    "import os\n",
    "\n",
    "# Others..."
   ]
  },
  {
   "cell_type": "code",
   "execution_count": 28,
   "metadata": {},
   "outputs": [
    {
     "name": "stdout",
     "output_type": "stream",
     "text": [
      "Dataset Loaded: post_preprocessing_without_dummies\n",
      "\tNumber of Rows: 283055\n",
      "\tNumber of Columns: 22\n",
      "\tOutlier Removal: True\n",
      "\tTrain Size: 0.8\n",
      "\tTest Size: 0.2\n",
      "\tRandom State: 42\n"
     ]
    }
   ],
   "source": [
    "# Load Data\n",
    "data = PricingWizardDataset()"
   ]
  },
  {
   "cell_type": "code",
   "execution_count": 29,
   "metadata": {},
   "outputs": [],
   "source": [
    "# Current working directory\n",
    "cwd = os.getcwd()\n",
    "\n",
    "# model directory\n",
    "model_dir = os.path.join(cwd, 'models', 'pickled_models')"
   ]
  },
  {
   "cell_type": "code",
   "execution_count": null,
   "metadata": {},
   "outputs": [],
   "source": [
    "# \n",
    "def get_listing_prices(classified_ids):\n",
    "    # Extract listing prices from unprocessed dataset\n",
    "    listing_prices = data.raw_df[data.raw_df.classified_id.isin(classified_ids)].listing_price.to_numpy()"
   ]
  },
  {
   "cell_type": "markdown",
   "metadata": {},
   "source": [
    "#### Base Regression Model"
   ]
  },
  {
   "cell_type": "code",
   "execution_count": 30,
   "metadata": {},
   "outputs": [
    {
     "name": "stdout",
     "output_type": "stream",
     "text": [
      "Model loaded successfully from /Users/rasmuskrebs/Documents/School/semester_3/data_mining/pricing_wizards/models/pickled_models/base_regression.pkl\n",
      "Dependent variable distribution is equal across all subsets\n"
     ]
    }
   ],
   "source": [
    "# Perform preprocessing\n",
    "data.apply_function(base_regression_pipeline)\n",
    "\n",
    "\n",
    "# Load model\n",
    "model = load_model(f'{model_dir}/base_regression.pkl')\n",
    "\n",
    "# Split\n",
    "_, X_test, _, y_test = data.stratify_train_test_split(val_size=0,\n",
    "                                                      y_column='log_listing_price')"
   ]
  },
  {
   "cell_type": "code",
   "execution_count": 39,
   "metadata": {},
   "outputs": [
    {
     "name": "stdout",
     "output_type": "stream",
     "text": [
      "Log Scale Accuracy\n",
      "R2 Score: 0.5741421546170012\n",
      "MSE: 0.41030475099260805\n",
      "MAE 0.4958842894677665\n",
      "RMSE 0.6405503500839009\n",
      "Threshold Accuracy 0.6503683029799863\n",
      "\n",
      "Original Scale Accuracy\n",
      "R2 Score: 0.36220203471317636\n",
      "MSE: 189674.0987414045\n",
      "MAE 207.70095452684768\n",
      "RMSE 435.5158995276803\n",
      "Threshold Accuracy 0.13370193072017805\n"
     ]
    }
   ],
   "source": [
    "# Predict\n",
    "y_pred = model.predict(X_test)\n",
    "\n",
    "# Calculate accuracy\n",
    "print('Log Scale Accuracy')\n",
    "regression_accuracy(y_pred, y_test)\n",
    "threshold_accuracy(y_pred, y_test, p=0.1)\n",
    "\n",
    "print('\\nOriginal Scale Accuracy')\n",
    "regression_accuracy(np.exp(y_pred), np.exp(y_test))\n",
    "threshold_accuracy(np.exp(y_pred), np.exp(y_test), p=0.1)"
   ]
  }
 ],
 "metadata": {
  "kernelspec": {
   "display_name": "base",
   "language": "python",
   "name": "python3"
  },
  "language_info": {
   "codemirror_mode": {
    "name": "ipython",
    "version": 3
   },
   "file_extension": ".py",
   "mimetype": "text/x-python",
   "name": "python",
   "nbconvert_exporter": "python",
   "pygments_lexer": "ipython3",
   "version": "3.11.3"
  }
 },
 "nbformat": 4,
 "nbformat_minor": 2
}
