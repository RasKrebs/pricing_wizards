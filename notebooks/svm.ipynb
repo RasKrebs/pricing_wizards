{
 "cells": [
  {
   "cell_type": "code",
   "execution_count": 9,
   "id": "b4a58e74-2981-4340-8b47-f22cbc4b8ed9",
   "metadata": {},
   "outputs": [
    {
     "ename": "ModuleNotFoundError",
     "evalue": "No module named 'seaborn'",
     "output_type": "error",
     "traceback": [
      "\u001b[0;31m---------------------------------------------------------------------------\u001b[0m",
      "\u001b[0;31mModuleNotFoundError\u001b[0m                       Traceback (most recent call last)",
      "Cell \u001b[0;32mIn[9], line 3\u001b[0m\n\u001b[1;32m      1\u001b[0m \u001b[38;5;66;03m# Data visualization\u001b[39;00m\n\u001b[1;32m      2\u001b[0m \u001b[38;5;28;01mimport\u001b[39;00m \u001b[38;5;21;01mmatplotlib\u001b[39;00m\u001b[38;5;21;01m.\u001b[39;00m\u001b[38;5;21;01mpyplot\u001b[39;00m \u001b[38;5;28;01mas\u001b[39;00m \u001b[38;5;21;01mplt\u001b[39;00m\n\u001b[0;32m----> 3\u001b[0m \u001b[38;5;28;01mimport\u001b[39;00m \u001b[38;5;21;01mseaborn\u001b[39;00m \u001b[38;5;28;01mas\u001b[39;00m \u001b[38;5;21;01msns\u001b[39;00m\n",
      "\u001b[0;31mModuleNotFoundError\u001b[0m: No module named 'seaborn'"
     ]
    }
   ],
   "source": [
    "# Data visualization\n",
    "import matplotlib.pyplot as plt\n",
    "import seaborn as sns"
   ]
  },
  {
   "cell_type": "code",
   "execution_count": null,
   "id": "8152cfa5-679e-43d3-ab03-8bfed2be8d09",
   "metadata": {},
   "outputs": [],
   "source": [
    "# actual vs predicted\n",
    "models = [model for models in results.values() for model in models]\n",
    "\n",
    "num_models = len(models)\n",
    "num_cols = 2\n",
    "num_rows = math.ceil(num_models / num_cols)\n",
    "\n",
    "fig, axs = plt.subplots(num_rows, num_cols, figsize=(18, 6*num_rows), tight_layout=True)\n",
    "axs = axs.flatten()\n",
    "\n",
    "for i, model in enumerate(models):\n",
    "    axs[i].scatter(y_test, model.y_pred, alpha=0.25)\n",
    "    axs[i].plot([y_test.min(), y_test.max()], [y_test.min(), y_test.max()], 'k', lw=1)\n",
    "    axs[i].set_title(model.label)\n",
    "    axs[i].set_xlabel('Actual Values')\n",
    "    axs[i].set_ylabel('Predicted Values')\n",
    "\n",
    "plt.suptitle(\"Actual vs. Predicted values by model\")\n",
    "\n",
    "plt.show(fig)"
   ]
  },
  {
   "cell_type": "code",
   "execution_count": null,
   "id": "b513e1e4-2608-4eb2-88fa-398c7f0187cc",
   "metadata": {},
   "outputs": [],
   "source": [
    "# residuals\n",
    "models = [model for models in results.values() for model in models]\n",
    "\n",
    "num_models = len(models)\n",
    "num_cols = 2\n",
    "num_rows = math.ceil(num_models / num_cols)\n",
    "\n",
    "fig, axs = plt.subplots(num_rows, num_cols, figsize=(18, 6*num_rows), tight_layout=True)\n",
    "\n",
    "for i, model in enumerate(models):\n",
    "    # Calculate residuals\n",
    "    prediction_error = y_test[i] - model.y_pred\n",
    "\n",
    "    # Extract the subplot for the current model\n",
    "    row = i // num_cols\n",
    "    col = i % num_cols\n",
    "\n",
    "    # Plot the scatter plot on the specific subplot\n",
    "    axs[row, col].scatter(model.y_pred, prediction_error, alpha=0.5)\n",
    "    plt.axhline(y=0, color='r', linestyle='--')\n",
    "    axs[row, col].set_title(model.label)\n",
    "    axs[row, col].set_xlabel('Predicted Values')\n",
    "    axs[row, col].set_ylabel('Prediction Errors')\n",
    "\n",
    "plt.suptitle(\"Residual values by model\")\n",
    "\n",
    "plt.show(fig)"
   ]
  },
  {
   "cell_type": "code",
   "execution_count": null,
   "id": "3a717f78-92e6-4357-826a-e8f80444ae36",
   "metadata": {},
   "outputs": [],
   "source": [
    "# model evaluation\n",
    "regressor_names = [result.label for results in results.values() for result in results]\n",
    "\n",
    "mse_mean_cv_values = [result.mse_mean_cv for results in results.values() for result in results]\n",
    "mse_test_values = [result.mse_test for results in results.values() for result in results]\n",
    "\n",
    "bar_width = 0.35\n",
    "index = range(len(regressor_names))\n",
    "\n",
    "fig, ax = plt.subplots(tight_layout=True)\n",
    "bar1 = ax.bar(index, mse_mean_cv_values, bar_width, label='MSE Mean CV')\n",
    "bar2 = ax.bar([i + bar_width for i in index], mse_test_values, bar_width, label='MSE Test')\n",
    "\n",
    "ax.set_xlabel('Regressor')\n",
    "ax.set_ylabel('Mean Squared Error (MSE)')\n",
    "ax.set_title('MSE Mean CV and MSE Test for Each Regressor')\n",
    "ax.set_xticks([i + bar_width / 2 for i in index])\n",
    "ax.set_xticklabels(regressor_names)\n",
    "ax.legend()\n",
    "\n",
    "plt.show(fig)"
   ]
  },
  {
   "cell_type": "code",
   "execution_count": null,
   "id": "9300cae4-d2fc-46af-b178-33390b7e9c3e",
   "metadata": {},
   "outputs": [],
   "source": [
    "# feature importances\n",
    "fig, ax = plt.subplots(tight_layout=True)\n",
    "\n",
    "# Bar plot for average feature importances\n",
    "sns.barplot(x=feature_importances.index, y=feature_importances['average'], hue=feature_importances.index, legend=False)\n",
    "plt.axhline(y=0, color='k', linestyle='--', linewidth=1)\n",
    "ax.set_title('Average Feature Importances')\n",
    "ax.set_xlabel('Features')\n",
    "ax.set_ylabel('Average Importance')\n",
    "ax.tick_params(axis='x', labelsize=8)\n",
    "\n",
    "plt.show(fig)"
   ]
  },
  {
   "cell_type": "code",
   "execution_count": null,
   "id": "e979eb37-4e1e-4395-b120-a52febdd6deb",
   "metadata": {},
   "outputs": [],
   "source": [
    "regressor_names = [result.label for results in results.values() for result in results]\n",
    "training_times = [result.training_time for results in results.values() for result in results]\n",
    "\n",
    "fig, ax = plt.subplots(tight_layout=True)\n",
    "ax.bar(regressor_names, training_times, color='blue')\n",
    "ax.set_xlabel('Regressor')\n",
    "ax.set_ylabel('Training Time (s)')\n",
    "ax.set_title('Training Time Comparison for Different Regressors')\n",
    "\n",
    "plt.show(fig)"
   ]
  }
 ],
 "metadata": {
  "kernelspec": {
   "display_name": "Python 3 (ipykernel)",
   "language": "python",
   "name": "python3"
  },
  "language_info": {
   "codemirror_mode": {
    "name": "ipython",
    "version": 3
   },
   "file_extension": ".py",
   "mimetype": "text/x-python",
   "name": "python",
   "nbconvert_exporter": "python",
   "pygments_lexer": "ipython3",
   "version": "3.10.4"
  }
 },
 "nbformat": 4,
 "nbformat_minor": 5
}
