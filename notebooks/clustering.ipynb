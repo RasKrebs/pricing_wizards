{
 "cells": [
  {
   "cell_type": "markdown",
   "metadata": {},
   "source": [
    "### Setup"
   ]
  },
  {
   "cell_type": "code",
   "execution_count": 1,
   "metadata": {},
   "outputs": [],
   "source": [
    "# Load helpers and custom dataset class\n",
    "from __init__ import (PricingWizardDataset, \n",
    "                      regression_accuracy, \n",
    "                      threshold_accuracy, \n",
    "                      ridge_regression_pipeline, \n",
    "                      base_regression_pipeline,\n",
    "                      drop_helpers, \n",
    "                      save_model, \n",
    "                      train,\n",
    "                      train_step,\n",
    "                      test,\n",
    "                      validation,\n",
    "                      condition_encoding,\n",
    "                      filter_rare_categories\n",
    "                      )\n",
    "\n",
    "# Data manipulation \n",
    "import pandas as pd\n",
    "import numpy as np\n",
    "\n",
    "# Data visualization\n",
    "import matplotlib.pyplot as plt\n",
    "import seaborn as sns\n",
    "\n",
    "# Machine learning\n",
    "from sklearn.linear_model import LinearRegression\n",
    "from sklearn.metrics import r2_score, mean_squared_error, mean_absolute_error\n",
    "from sklearn.preprocessing import StandardScaler, MinMaxScaler\n",
    "\n",
    "import os\n",
    "import pandas as pd\n",
    "import numpy as np\n",
    "import matplotlib.pyplot as plt\n",
    "import matplotlib.ticker as plticker\n",
    "import matplotlib as mpl\n",
    "import datetime\n",
    "import joblib\n",
    "import os\n",
    "try:\n",
    "    from kmodes.kprototypes import KPrototypes\n",
    "except:\n",
    "    !pip install kmodes\n",
    "    from kmodes.kprototypes import KPrototypes\n",
    "import session_info\n",
    "from sklearn.preprocessing import StandardScaler"
   ]
  },
  {
   "cell_type": "code",
   "execution_count": 2,
   "metadata": {},
   "outputs": [
    {
     "name": "stdout",
     "output_type": "stream",
     "text": [
      "Dataset Loaded: post_preprocessing_without_dummies\n",
      "\tNumber of Rows: 283055\n",
      "\tNumber of Columns: 22\n",
      "\tOutlier Removal: True\n",
      "\tTrain Size: 0.8\n",
      "\tTest Size: 0.2\n",
      "\tRandom State: 42\n"
     ]
    }
   ],
   "source": [
    "# Data loading\n",
    "data = PricingWizardDataset(\n",
    "    filename = 'post_preprocessing_without_dummies.csv'\n",
    ")"
   ]
  },
  {
   "cell_type": "markdown",
   "metadata": {},
   "source": [
    "## Kprototypes"
   ]
  },
  {
   "cell_type": "code",
   "execution_count": 114,
   "metadata": {},
   "outputs": [],
   "source": [
    "# Reset dataset, used during modelling and overwrites any previous changes\n",
    "data.reset_dataset()\n",
    "\n",
    "# Extract the dataframe\n",
    "df = data.df.copy()"
   ]
  },
  {
   "cell_type": "code",
   "execution_count": 115,
   "metadata": {},
   "outputs": [],
   "source": [
    "# Filter out rare subsubsub categories and ordinally encode conditions\n",
    "df = filter_rare_categories(df, 'subsubsubcategory_name', 'subsubcategory_name')\n",
    "df = condition_encoding(df)"
   ]
  },
  {
   "cell_type": "code",
   "execution_count": 116,
   "metadata": {},
   "outputs": [],
   "source": [
    "# Subtracting brands with less than 30 listings\n",
    "brands = df['brand_name'].value_counts()\n",
    "brands = brands[brands < 30].index\n",
    "\n",
    "df.loc[df[df.brand_name.isin(brands)].index, 'brand_name'] = 'Other'    "
   ]
  },
  {
   "cell_type": "code",
   "execution_count": 117,
   "metadata": {},
   "outputs": [],
   "source": [
    "# Extracting relevant columns for clustering\n",
    "cluster_data = df[['brand_name','subsubsubcategory_name','listing_price','viewed_count','condition_name']]"
   ]
  },
  {
   "cell_type": "code",
   "execution_count": 118,
   "metadata": {},
   "outputs": [],
   "source": [
    "# Numeric Columns\n",
    "num_col = (cluster_data.select_dtypes('integer') +\n",
    "           cluster_data.select_dtypes('float')).columns.to_list()\n",
    "\n",
    "cluster_data_norm = cluster_data.copy()\n",
    "\n",
    "cluster_data_norm.loc[:, num_col] = StandardScaler().fit_transform(cluster_data[num_col]) # Alt. MinMaxScaler, normalize"
   ]
  },
  {
   "cell_type": "code",
   "execution_count": 109,
   "metadata": {},
   "outputs": [],
   "source": [
    "# Initalize models\n",
    "model = KPrototypes(n_clusters=4, init='Cao', n_jobs=-1) \n",
    "\n",
    "# Fit and predict clusters for data\n",
    "clusters = model.fit_predict(cluster_data_norm.to_numpy(), categorical=[0,1])"
   ]
  },
  {
   "cell_type": "code",
   "execution_count": 110,
   "metadata": {},
   "outputs": [],
   "source": [
    "# Add clusters to dataframe\n",
    "df['cluster'] = clusters\n",
    "cluster_data['cluster'] = clusters"
   ]
  },
  {
   "cell_type": "code",
   "execution_count": 113,
   "metadata": {},
   "outputs": [
    {
     "data": {
      "text/html": [
       "<div>\n",
       "<style scoped>\n",
       "    .dataframe tbody tr th:only-of-type {\n",
       "        vertical-align: middle;\n",
       "    }\n",
       "\n",
       "    .dataframe tbody tr th {\n",
       "        vertical-align: top;\n",
       "    }\n",
       "\n",
       "    .dataframe thead th {\n",
       "        text-align: right;\n",
       "    }\n",
       "</style>\n",
       "<table border=\"1\" class=\"dataframe\">\n",
       "  <thead>\n",
       "    <tr style=\"text-align: right;\">\n",
       "      <th></th>\n",
       "      <th>mean_listing_price</th>\n",
       "      <th>mean_views</th>\n",
       "      <th>top_5_brands</th>\n",
       "      <th>sub_categories</th>\n",
       "      <th>subsub_cateogries</th>\n",
       "      <th>count</th>\n",
       "    </tr>\n",
       "    <tr>\n",
       "      <th>cluster</th>\n",
       "      <th></th>\n",
       "      <th></th>\n",
       "      <th></th>\n",
       "      <th></th>\n",
       "      <th></th>\n",
       "      <th></th>\n",
       "    </tr>\n",
       "  </thead>\n",
       "  <tbody>\n",
       "    <tr>\n",
       "      <th>0</th>\n",
       "      <td>675.608636</td>\n",
       "      <td>263.055560</td>\n",
       "      <td>[Stone Island, Carhartt, Stussy, Planet Nusa, ...</td>\n",
       "      <td>[Clothes, Women, Men, Accessories, Sportswear]</td>\n",
       "      <td>[Jackets, Knitwear, Trousers, Sneakers, T-shirts]</td>\n",
       "      <td>25360</td>\n",
       "    </tr>\n",
       "    <tr>\n",
       "      <th>1</th>\n",
       "      <td>296.584705</td>\n",
       "      <td>45.149059</td>\n",
       "      <td>[Carhartt, Nike, Zara, Ganni, One Vintage]</td>\n",
       "      <td>[Clothes, Women, Men, Home, Accessories]</td>\n",
       "      <td>[Trousers, Sneakers, Jeans, Jackets, T-shirts]</td>\n",
       "      <td>171254</td>\n",
       "    </tr>\n",
       "    <tr>\n",
       "      <th>2</th>\n",
       "      <td>2377.589470</td>\n",
       "      <td>99.121328</td>\n",
       "      <td>[Polo Ralph Lauren, Moncler, Louis Vuitton, Ai...</td>\n",
       "      <td>[Clothes, Women, Men, Electronics, Smartphones...</td>\n",
       "      <td>[Jackets, Sneakers, Shirts, Shoulder bags, Cro...</td>\n",
       "      <td>10484</td>\n",
       "    </tr>\n",
       "    <tr>\n",
       "      <th>3</th>\n",
       "      <td>442.001672</td>\n",
       "      <td>44.158577</td>\n",
       "      <td>[Adidas, Zara, UGG, Stussy, Nike]</td>\n",
       "      <td>[Clothes, Women, Men, Accessories, Home]</td>\n",
       "      <td>[Sneakers, T-shirts, Trousers, Dresses, Tops]</td>\n",
       "      <td>75957</td>\n",
       "    </tr>\n",
       "  </tbody>\n",
       "</table>\n",
       "</div>"
      ],
      "text/plain": [
       "         mean_listing_price  mean_views  \\\n",
       "cluster                                   \n",
       "0                675.608636  263.055560   \n",
       "1                296.584705   45.149059   \n",
       "2               2377.589470   99.121328   \n",
       "3                442.001672   44.158577   \n",
       "\n",
       "                                              top_5_brands  \\\n",
       "cluster                                                      \n",
       "0        [Stone Island, Carhartt, Stussy, Planet Nusa, ...   \n",
       "1               [Carhartt, Nike, Zara, Ganni, One Vintage]   \n",
       "2        [Polo Ralph Lauren, Moncler, Louis Vuitton, Ai...   \n",
       "3                        [Adidas, Zara, UGG, Stussy, Nike]   \n",
       "\n",
       "                                            sub_categories  \\\n",
       "cluster                                                      \n",
       "0           [Clothes, Women, Men, Accessories, Sportswear]   \n",
       "1                 [Clothes, Women, Men, Home, Accessories]   \n",
       "2        [Clothes, Women, Men, Electronics, Smartphones...   \n",
       "3                 [Clothes, Women, Men, Accessories, Home]   \n",
       "\n",
       "                                         subsub_cateogries   count  \n",
       "cluster                                                             \n",
       "0        [Jackets, Knitwear, Trousers, Sneakers, T-shirts]   25360  \n",
       "1           [Trousers, Sneakers, Jeans, Jackets, T-shirts]  171254  \n",
       "2        [Jackets, Sneakers, Shirts, Shoulder bags, Cro...   10484  \n",
       "3            [Sneakers, T-shirts, Trousers, Dresses, Tops]   75957  "
      ]
     },
     "execution_count": 113,
     "metadata": {},
     "output_type": "execute_result"
    }
   ],
   "source": [
    "# Evaluate clusters\n",
    "df.groupby('cluster').agg(\n",
    "    mean_listing_price = ('listing_price', 'mean'),\n",
    "    mean_views = ('viewed_count', 'mean'),\n",
    "    top_5_brands = ('brand_name', lambda x: x.value_counts().index[0:5]),\n",
    "    sub_categories = ('subsubcategory_name', lambda x: x.value_counts().index[0:5]),\n",
    "    subsub_cateogries = ('subsubsubcategory_name', lambda x: x.value_counts().index[0:5]),\n",
    "    count = ('classified_id', 'count'))"
   ]
  }
 ],
 "metadata": {
  "kernelspec": {
   "display_name": "base",
   "language": "python",
   "name": "python3"
  },
  "language_info": {
   "codemirror_mode": {
    "name": "ipython",
    "version": 3
   },
   "file_extension": ".py",
   "mimetype": "text/x-python",
   "name": "python",
   "nbconvert_exporter": "python",
   "pygments_lexer": "ipython3",
   "version": "3.11.3"
  }
 },
 "nbformat": 4,
 "nbformat_minor": 2
}
