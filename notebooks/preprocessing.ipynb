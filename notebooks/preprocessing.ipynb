{
 "cells": [
  {
   "cell_type": "markdown",
   "metadata": {},
   "source": [
    "# The purpose of this notebook is to perform some preliminary data analysis and manipulation\n",
    "## It is followed by more in-depth visual analysis in the eda_visuals.ipynb notebook and by more in-depth data transformations in utils/Dataloader.py"
   ]
  },
  {
   "cell_type": "code",
   "execution_count": 6,
   "metadata": {},
   "outputs": [],
   "source": [
    "import pandas as pd\n",
    "import numpy as np\n",
    "import seaborn as sns\n",
    "import matplotlib.pyplot as plt\n",
    "import pandas as pd\n",
    "from sklearn.preprocessing import StandardScaler, MinMaxScaler\n",
    "import os; os.getcwd()"
   ]
  },
  {
   "cell_type": "markdown",
   "metadata": {},
   "source": [
    "# "
   ]
  },
  {
   "cell_type": "code",
   "execution_count": 8,
   "metadata": {},
   "outputs": [
    {
     "name": "stdout",
     "output_type": "stream",
     "text": [
      "Rows: 338587\n",
      "Columns: 18\n"
     ]
    }
   ],
   "source": [
    "df = pd.read_csv('../data/3month_sample_more_categories.csv')\n",
    "\n",
    "print(f'Rows: {len(df)}')\n",
    "print(f'Columns: {len(df.columns)}')"
   ]
  },
  {
   "cell_type": "code",
   "execution_count": 9,
   "metadata": {},
   "outputs": [
    {
     "data": {
      "text/html": [
       "<div>\n",
       "<style scoped>\n",
       "    .dataframe tbody tr th:only-of-type {\n",
       "        vertical-align: middle;\n",
       "    }\n",
       "\n",
       "    .dataframe tbody tr th {\n",
       "        vertical-align: top;\n",
       "    }\n",
       "\n",
       "    .dataframe thead th {\n",
       "        text-align: right;\n",
       "    }\n",
       "</style>\n",
       "<table border=\"1\" class=\"dataframe\">\n",
       "  <thead>\n",
       "    <tr style=\"text-align: right;\">\n",
       "      <th></th>\n",
       "      <th>classified_id</th>\n",
       "      <th>listed_at_date</th>\n",
       "      <th>product_id</th>\n",
       "      <th>user_id</th>\n",
       "      <th>classified_price</th>\n",
       "      <th>retail_price</th>\n",
       "      <th>listing_price</th>\n",
       "      <th>favourites</th>\n",
       "      <th>viewed_count</th>\n",
       "      <th>state</th>\n",
       "      <th>brand_name</th>\n",
       "      <th>condition_name</th>\n",
       "      <th>size_name</th>\n",
       "      <th>color_name</th>\n",
       "      <th>category_name</th>\n",
       "      <th>subcategory_name</th>\n",
       "      <th>subsubcategory_name</th>\n",
       "      <th>subsubsubcategory_name</th>\n",
       "    </tr>\n",
       "  </thead>\n",
       "  <tbody>\n",
       "    <tr>\n",
       "      <th>0</th>\n",
       "      <td>30343099</td>\n",
       "      <td>2023-09-06</td>\n",
       "      <td>954766</td>\n",
       "      <td>2425635</td>\n",
       "      <td>900</td>\n",
       "      <td>3000.0</td>\n",
       "      <td>1299</td>\n",
       "      <td>10</td>\n",
       "      <td>145</td>\n",
       "      <td>10</td>\n",
       "      <td>Air Jordan</td>\n",
       "      <td>Almost as new</td>\n",
       "      <td>Size 41</td>\n",
       "      <td>Black</td>\n",
       "      <td>Men</td>\n",
       "      <td>Men</td>\n",
       "      <td>Men</td>\n",
       "      <td>Sneakers</td>\n",
       "    </tr>\n",
       "    <tr>\n",
       "      <th>1</th>\n",
       "      <td>30346312</td>\n",
       "      <td>2023-09-06</td>\n",
       "      <td>484749</td>\n",
       "      <td>144602</td>\n",
       "      <td>225</td>\n",
       "      <td>750.0</td>\n",
       "      <td>350</td>\n",
       "      <td>12</td>\n",
       "      <td>119</td>\n",
       "      <td>10</td>\n",
       "      <td>Ganni</td>\n",
       "      <td>Almost as new</td>\n",
       "      <td>Size 38</td>\n",
       "      <td>Multi</td>\n",
       "      <td>Women</td>\n",
       "      <td>Women</td>\n",
       "      <td>Clothes</td>\n",
       "      <td>Skirts</td>\n",
       "    </tr>\n",
       "    <tr>\n",
       "      <th>2</th>\n",
       "      <td>30364278</td>\n",
       "      <td>2023-09-07</td>\n",
       "      <td>4402090</td>\n",
       "      <td>2028837</td>\n",
       "      <td>120</td>\n",
       "      <td>NaN</td>\n",
       "      <td>120</td>\n",
       "      <td>38</td>\n",
       "      <td>209</td>\n",
       "      <td>10</td>\n",
       "      <td>One Vintage</td>\n",
       "      <td>Good but used</td>\n",
       "      <td>Size M</td>\n",
       "      <td>Multi</td>\n",
       "      <td>Women</td>\n",
       "      <td>Women</td>\n",
       "      <td>Women</td>\n",
       "      <td>Women</td>\n",
       "    </tr>\n",
       "  </tbody>\n",
       "</table>\n",
       "</div>"
      ],
      "text/plain": [
       "   classified_id listed_at_date  product_id  user_id  classified_price  \\\n",
       "0       30343099     2023-09-06      954766  2425635               900   \n",
       "1       30346312     2023-09-06      484749   144602               225   \n",
       "2       30364278     2023-09-07     4402090  2028837               120   \n",
       "\n",
       "   retail_price  listing_price  favourites  viewed_count  state   brand_name  \\\n",
       "0        3000.0           1299          10           145     10   Air Jordan   \n",
       "1         750.0            350          12           119     10        Ganni   \n",
       "2           NaN            120          38           209     10  One Vintage   \n",
       "\n",
       "  condition_name size_name color_name category_name subcategory_name  \\\n",
       "0  Almost as new   Size 41      Black           Men              Men   \n",
       "1  Almost as new   Size 38      Multi         Women            Women   \n",
       "2  Good but used    Size M      Multi         Women            Women   \n",
       "\n",
       "  subsubcategory_name subsubsubcategory_name  \n",
       "0                 Men               Sneakers  \n",
       "1             Clothes                 Skirts  \n",
       "2               Women                  Women  "
      ]
     },
     "execution_count": 9,
     "metadata": {},
     "output_type": "execute_result"
    }
   ],
   "source": [
    "df.head(3)"
   ]
  },
  {
   "cell_type": "code",
   "execution_count": 10,
   "metadata": {},
   "outputs": [],
   "source": [
    "# drop cols product_id and col state\n",
    "df = df.drop(['product_id', 'state'], axis=1)"
   ]
  },
  {
   "cell_type": "code",
   "execution_count": 11,
   "metadata": {},
   "outputs": [
    {
     "name": "stdout",
     "output_type": "stream",
     "text": [
      "<class 'pandas.core.frame.DataFrame'>\n",
      "RangeIndex: 338587 entries, 0 to 338586\n",
      "Data columns (total 16 columns):\n",
      " #   Column                  Non-Null Count   Dtype  \n",
      "---  ------                  --------------   -----  \n",
      " 0   classified_id           338587 non-null  int64  \n",
      " 1   listed_at_date          338587 non-null  object \n",
      " 2   user_id                 338587 non-null  int64  \n",
      " 3   classified_price        338587 non-null  int64  \n",
      " 4   retail_price            132639 non-null  float64\n",
      " 5   listing_price           338587 non-null  int64  \n",
      " 6   favourites              338587 non-null  int64  \n",
      " 7   viewed_count            338587 non-null  int64  \n",
      " 8   brand_name              305786 non-null  object \n",
      " 9   condition_name          338587 non-null  object \n",
      " 10  size_name               265161 non-null  object \n",
      " 11  color_name              305690 non-null  object \n",
      " 12  category_name           338587 non-null  object \n",
      " 13  subcategory_name        338587 non-null  object \n",
      " 14  subsubcategory_name     338587 non-null  object \n",
      " 15  subsubsubcategory_name  338587 non-null  object \n",
      "dtypes: float64(1), int64(6), object(9)\n",
      "memory usage: 41.3+ MB\n"
     ]
    }
   ],
   "source": [
    "df.info()"
   ]
  },
  {
   "cell_type": "code",
   "execution_count": 12,
   "metadata": {},
   "outputs": [],
   "source": [
    "df['listed_at_date'] = pd.to_datetime(df['listed_at_date']).dt.date"
   ]
  },
  {
   "cell_type": "code",
   "execution_count": 14,
   "metadata": {},
   "outputs": [
    {
     "data": {
      "text/plain": [
       "classified_id                  0\n",
       "listed_at_date                 0\n",
       "user_id                        0\n",
       "classified_price               0\n",
       "retail_price              204109\n",
       "listing_price                  0\n",
       "favourites                     0\n",
       "viewed_count                   0\n",
       "brand_name                 31875\n",
       "condition_name                 0\n",
       "size_name                  72332\n",
       "color_name                 32342\n",
       "category_name                  0\n",
       "subcategory_name               0\n",
       "subsubcategory_name            0\n",
       "subsubsubcategory_name         0\n",
       "dtype: int64"
      ]
     },
     "execution_count": 14,
     "metadata": {},
     "output_type": "execute_result"
    }
   ],
   "source": [
    "df.isna().sum()"
   ]
  },
  {
   "cell_type": "code",
   "execution_count": 15,
   "metadata": {},
   "outputs": [
    {
     "name": "stdout",
     "output_type": "stream",
     "text": [
      "['retail_price', 'size_name']\n",
      "['brand_name', 'color_name']\n"
     ]
    }
   ],
   "source": [
    "# get columns with nans\n",
    "columns_with_nan = []\n",
    "columns_with_few_nan = []\n",
    "\n",
    "for i in df.columns:\n",
    "    if df[i].isna().sum() > 50000:\n",
    "        columns_with_nan.append(i)\n",
    "    elif df[i].isna().sum() > 0:\n",
    "        columns_with_few_nan.append(i)\n",
    "\n",
    "print(columns_with_nan)\n",
    "print(columns_with_few_nan)"
   ]
  },
  {
   "cell_type": "code",
   "execution_count": 16,
   "metadata": {},
   "outputs": [
    {
     "name": "stdout",
     "output_type": "stream",
     "text": [
      "Rows: 336120\n",
      "Columns: 14\n"
     ]
    }
   ],
   "source": [
    "# remove columns with too many nans\n",
    "df = df.drop(columns_with_nan,axis=1)\n",
    "\n",
    "print(f'Rows: {len(df)}')\n",
    "print(f'Columns: {len(df.columns)}')"
   ]
  },
  {
   "cell_type": "code",
   "execution_count": 17,
   "metadata": {},
   "outputs": [
    {
     "data": {
      "text/plain": [
       "True"
      ]
     },
     "execution_count": 17,
     "metadata": {},
     "output_type": "execute_result"
    }
   ],
   "source": [
    "\"retail_price\" in df.columns\n",
    "\"brand_name\" in df.columns"
   ]
  },
  {
   "cell_type": "code",
   "execution_count": 18,
   "metadata": {},
   "outputs": [
    {
     "data": {
      "text/html": [
       "<div>\n",
       "<style scoped>\n",
       "    .dataframe tbody tr th:only-of-type {\n",
       "        vertical-align: middle;\n",
       "    }\n",
       "\n",
       "    .dataframe tbody tr th {\n",
       "        vertical-align: top;\n",
       "    }\n",
       "\n",
       "    .dataframe thead th {\n",
       "        text-align: right;\n",
       "    }\n",
       "</style>\n",
       "<table border=\"1\" class=\"dataframe\">\n",
       "  <thead>\n",
       "    <tr style=\"text-align: right;\">\n",
       "      <th></th>\n",
       "      <th>brand</th>\n",
       "      <th>count_instances</th>\n",
       "    </tr>\n",
       "  </thead>\n",
       "  <tbody>\n",
       "    <tr>\n",
       "      <th>0</th>\n",
       "      <td>\"E\"</td>\n",
       "      <td>1</td>\n",
       "    </tr>\n",
       "    <tr>\n",
       "      <th>1</th>\n",
       "      <td>&amp;Copenhagen</td>\n",
       "      <td>3</td>\n",
       "    </tr>\n",
       "    <tr>\n",
       "      <th>2</th>\n",
       "      <td>&amp;Denim</td>\n",
       "      <td>11</td>\n",
       "    </tr>\n",
       "    <tr>\n",
       "      <th>3</th>\n",
       "      <td>&amp;klevering</td>\n",
       "      <td>1</td>\n",
       "    </tr>\n",
       "    <tr>\n",
       "      <th>4</th>\n",
       "      <td>&amp;tradition</td>\n",
       "      <td>24</td>\n",
       "    </tr>\n",
       "    <tr>\n",
       "      <th>...</th>\n",
       "      <td>...</td>\n",
       "      <td>...</td>\n",
       "    </tr>\n",
       "    <tr>\n",
       "      <th>4757</th>\n",
       "      <td>Öhouse</td>\n",
       "      <td>40</td>\n",
       "    </tr>\n",
       "    <tr>\n",
       "      <th>4758</th>\n",
       "      <td>Önling</td>\n",
       "      <td>2</td>\n",
       "    </tr>\n",
       "    <tr>\n",
       "      <th>4759</th>\n",
       "      <td>ØLÅF</td>\n",
       "      <td>4</td>\n",
       "    </tr>\n",
       "    <tr>\n",
       "      <th>4760</th>\n",
       "      <td>ØST London</td>\n",
       "      <td>2</td>\n",
       "    </tr>\n",
       "    <tr>\n",
       "      <th>4761</th>\n",
       "      <td>üniku</td>\n",
       "      <td>3</td>\n",
       "    </tr>\n",
       "  </tbody>\n",
       "</table>\n",
       "<p>4762 rows × 2 columns</p>\n",
       "</div>"
      ],
      "text/plain": [
       "            brand  count_instances\n",
       "0             \"E\"                1\n",
       "1     &Copenhagen                3\n",
       "2          &Denim               11\n",
       "3      &klevering                1\n",
       "4      &tradition               24\n",
       "...           ...              ...\n",
       "4757       Öhouse               40\n",
       "4758       Önling                2\n",
       "4759         ØLÅF                4\n",
       "4760   ØST London                2\n",
       "4761        üniku                3\n",
       "\n",
       "[4762 rows x 2 columns]"
      ]
     },
     "execution_count": 18,
     "metadata": {},
     "output_type": "execute_result"
    }
   ],
   "source": [
    "brand_count = df.groupby(['brand_name']).count()['classified_price']\n",
    "\n",
    "# check for brands with few listings\n",
    "brands_to_drop = []\n",
    "brands_to_drop_count = []\n",
    "brands_to_keep = []\n",
    "brands_to_keep_count = []\n",
    "for x in brand_count.index:\n",
    "    if brand_count[x] < 100:\n",
    "        brands_to_drop.append(x)\n",
    "        brands_to_drop_count.append(brand_count[x])\n",
    "    else:\n",
    "        brands_to_keep.append(x)\n",
    "        brands_to_keep_count.append(brand_count[x])\n",
    "\n",
    "keep = pd.DataFrame({'brand':brands_to_keep,'count_instances':brands_to_keep_count})\n",
    "drop = pd.DataFrame({'brand':brands_to_drop,'count_instances':brands_to_drop_count})\n",
    "\n",
    "drop"
   ]
  },
  {
   "cell_type": "code",
   "execution_count": 19,
   "metadata": {},
   "outputs": [
    {
     "name": "stdout",
     "output_type": "stream",
     "text": [
      "Rows: 286780\n",
      "Columns: 14\n"
     ]
    }
   ],
   "source": [
    "# exclude rare brands\n",
    "df = df[~df['brand_name'].isin(brands_to_drop)].copy()\n",
    "\n",
    "print(f'Rows: {len(df)}')\n",
    "print(f'Columns: {len(df.columns)}')"
   ]
  },
  {
   "cell_type": "code",
   "execution_count": 21,
   "metadata": {},
   "outputs": [
    {
     "data": {
      "text/html": [
       "<div>\n",
       "<style scoped>\n",
       "    .dataframe tbody tr th:only-of-type {\n",
       "        vertical-align: middle;\n",
       "    }\n",
       "\n",
       "    .dataframe tbody tr th {\n",
       "        vertical-align: top;\n",
       "    }\n",
       "\n",
       "    .dataframe thead th {\n",
       "        text-align: right;\n",
       "    }\n",
       "</style>\n",
       "<table border=\"1\" class=\"dataframe\">\n",
       "  <thead>\n",
       "    <tr style=\"text-align: right;\">\n",
       "      <th></th>\n",
       "      <th>classified_id</th>\n",
       "      <th>listed_at_date</th>\n",
       "      <th>user_id</th>\n",
       "      <th>classified_price</th>\n",
       "      <th>listing_price</th>\n",
       "      <th>favourites</th>\n",
       "      <th>viewed_count</th>\n",
       "      <th>brand_name</th>\n",
       "      <th>condition_name</th>\n",
       "      <th>color_name</th>\n",
       "      <th>category_name</th>\n",
       "      <th>subcategory_name</th>\n",
       "      <th>subsubcategory_name</th>\n",
       "      <th>subsubsubcategory_name</th>\n",
       "    </tr>\n",
       "  </thead>\n",
       "  <tbody>\n",
       "    <tr>\n",
       "      <th>0</th>\n",
       "      <td>30343099</td>\n",
       "      <td>2023-09-06</td>\n",
       "      <td>2425635</td>\n",
       "      <td>900</td>\n",
       "      <td>1299</td>\n",
       "      <td>10</td>\n",
       "      <td>145</td>\n",
       "      <td>Air Jordan</td>\n",
       "      <td>Almost as new</td>\n",
       "      <td>Black</td>\n",
       "      <td>Men</td>\n",
       "      <td>Men</td>\n",
       "      <td>Men</td>\n",
       "      <td>Sneakers</td>\n",
       "    </tr>\n",
       "    <tr>\n",
       "      <th>1</th>\n",
       "      <td>30346312</td>\n",
       "      <td>2023-09-06</td>\n",
       "      <td>144602</td>\n",
       "      <td>225</td>\n",
       "      <td>350</td>\n",
       "      <td>12</td>\n",
       "      <td>119</td>\n",
       "      <td>Ganni</td>\n",
       "      <td>Almost as new</td>\n",
       "      <td>Multi</td>\n",
       "      <td>Women</td>\n",
       "      <td>Women</td>\n",
       "      <td>Clothes</td>\n",
       "      <td>Skirts</td>\n",
       "    </tr>\n",
       "    <tr>\n",
       "      <th>2</th>\n",
       "      <td>30364278</td>\n",
       "      <td>2023-09-07</td>\n",
       "      <td>2028837</td>\n",
       "      <td>120</td>\n",
       "      <td>120</td>\n",
       "      <td>38</td>\n",
       "      <td>209</td>\n",
       "      <td>One Vintage</td>\n",
       "      <td>Good but used</td>\n",
       "      <td>Multi</td>\n",
       "      <td>Women</td>\n",
       "      <td>Women</td>\n",
       "      <td>Women</td>\n",
       "      <td>Women</td>\n",
       "    </tr>\n",
       "  </tbody>\n",
       "</table>\n",
       "</div>"
      ],
      "text/plain": [
       "   classified_id listed_at_date  user_id  classified_price  listing_price  \\\n",
       "0       30343099     2023-09-06  2425635               900           1299   \n",
       "1       30346312     2023-09-06   144602               225            350   \n",
       "2       30364278     2023-09-07  2028837               120            120   \n",
       "\n",
       "   favourites  viewed_count   brand_name condition_name color_name  \\\n",
       "0          10           145   Air Jordan  Almost as new      Black   \n",
       "1          12           119        Ganni  Almost as new      Multi   \n",
       "2          38           209  One Vintage  Good but used      Multi   \n",
       "\n",
       "  category_name subcategory_name subsubcategory_name subsubsubcategory_name  \n",
       "0           Men              Men                 Men               Sneakers  \n",
       "1         Women            Women             Clothes                 Skirts  \n",
       "2         Women            Women               Women                  Women  "
      ]
     },
     "execution_count": 21,
     "metadata": {},
     "output_type": "execute_result"
    }
   ],
   "source": [
    "df.head(3)"
   ]
  },
  {
   "cell_type": "markdown",
   "metadata": {},
   "source": [
    "# Adjust scale on quantitative columns"
   ]
  },
  {
   "cell_type": "code",
   "execution_count": 22,
   "metadata": {},
   "outputs": [],
   "source": [
    "scaler = StandardScaler()\n",
    "df['classified_price_standardized'] = scaler.fit_transform(df[['classified_price']])\n",
    "df['viewed_count_standardized'] = scaler.fit_transform(df[['viewed_count']])\n",
    "df['favourites_standardized'] = scaler.fit_transform(df[['favourites']])\n",
    "\n",
    "# Normalizing the columns\n",
    "min_max_scaler = MinMaxScaler()\n",
    "df['classified_price_normalized'] = min_max_scaler.fit_transform(df[['classified_price']])\n",
    "df['viewed_count_normalized'] = min_max_scaler.fit_transform(df[['viewed_count']])\n",
    "df['favourites_normalized'] = min_max_scaler.fit_transform(df[['favourites']])\n"
   ]
  },
  {
   "cell_type": "code",
   "execution_count": 25,
   "metadata": {},
   "outputs": [],
   "source": [
    "# df_with_dummies.to_csv('../data/post_preprocessing_with_dummies.csv',index=False)\n",
    "# df.to_csv('../data/post_preprocessing_without_dummies.csv',index=False)"
   ]
  }
 ],
 "metadata": {
  "kernelspec": {
   "display_name": "base",
   "language": "python",
   "name": "python3"
  },
  "language_info": {
   "codemirror_mode": {
    "name": "ipython",
    "version": 3
   },
   "file_extension": ".py",
   "mimetype": "text/x-python",
   "name": "python",
   "nbconvert_exporter": "python",
   "pygments_lexer": "ipython3",
   "version": "3.10.9"
  }
 },
 "nbformat": 4,
 "nbformat_minor": 2
}
