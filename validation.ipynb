{
 "cells": [
  {
   "cell_type": "markdown",
   "metadata": {},
   "source": [
    "## Library Imports"
   ]
  },
  {
   "cell_type": "code",
   "execution_count": 1,
   "metadata": {},
   "outputs": [],
   "source": [
    "# Import dataset class and accuracy functions\n",
    "from utils.Dataloader import PricingWizardDataset\n",
    "from utils.RegressionEvaluation import (regression_accuracy,  threshold_accuracy)\n",
    "from utils.DataTransformation import (base_regression_pipeline, ridge_regression_pipeline)\n",
    "from models.regression_neural_network import RegressionNN\n",
    "from utils.helpers import load_model, drop_helpers \n",
    "from utils.NeuralNetHelpers import test, set_device\n",
    "\n",
    "# Model loading imports\n",
    "import joblib\n",
    "import torch\n",
    "\n",
    "# Import other libraries\n",
    "import numpy as np\n",
    "import pandas as pd\n",
    "import matplotlib.pyplot as plt\n",
    "import seaborn as sns\n",
    "import os\n",
    "import zipfile\n",
    "from sklearn.preprocessing import MinMaxScaler\n",
    "from sklearn.preprocessing import StandardScaler"
   ]
  },
  {
   "cell_type": "code",
   "execution_count": 2,
   "metadata": {},
   "outputs": [
    {
     "name": "stdout",
     "output_type": "stream",
     "text": [
      "Dataset Loaded: post_preprocessing_without_dummies\n",
      "\tNumber of Rows: 283055\n",
      "\tNumber of Columns: 22\n",
      "\tOutlier Removal: True\n",
      "\tTrain Size: 0.8\n",
      "\tTest Size: 0.2\n",
      "\tRandom State: 42\n"
     ]
    }
   ],
   "source": [
    "# Load Data\n",
    "data = PricingWizardDataset()"
   ]
  },
  {
   "cell_type": "code",
   "execution_count": 3,
   "metadata": {},
   "outputs": [],
   "source": [
    "# Current working directory\n",
    "cwd = os.getcwd()\n",
    "\n",
    "# model directory\n",
    "model_dir = os.path.join(cwd, 'models', 'pickled_models')"
   ]
  },
  {
   "cell_type": "code",
   "execution_count": 4,
   "metadata": {},
   "outputs": [
    {
     "name": "stdout",
     "output_type": "stream",
     "text": [
      "['.DS_Store', 'prediction_svr_linear.pkl', 'regularized_regression.pkl', 'prediction_random_forest.pkl.zip', 'prediction_random_forest.pkl', 'base_regression.pkl', 'regression_neural_net.pt']\n"
     ]
    }
   ],
   "source": [
    "# Files in model directory\n",
    "print(os.listdir(model_dir))"
   ]
  },
  {
   "cell_type": "markdown",
   "metadata": {},
   "source": [
    "#### Base Regression Model"
   ]
  },
  {
   "cell_type": "code",
   "execution_count": 5,
   "metadata": {},
   "outputs": [],
   "source": [
    "# Reset dataset as standard\n",
    "data.reset_dataset()"
   ]
  },
  {
   "cell_type": "code",
   "execution_count": 6,
   "metadata": {},
   "outputs": [
    {
     "name": "stdout",
     "output_type": "stream",
     "text": [
      "Model loaded successfully from /Users/rasmuskrebs/Documents/School/semester_3/data_mining/pricing_wizards/models/pickled_models/base_regression.pkl\n",
      "Dependent variable distribution is equal across all subsets\n"
     ]
    }
   ],
   "source": [
    "# Perform preprocessing\n",
    "data.apply_function(base_regression_pipeline)\n",
    "\n",
    "\n",
    "# Load model\n",
    "base_regression = load_model(f'{model_dir}/base_regression.pkl')\n",
    "\n",
    "# Split\n",
    "_, X_test, _, y_test = data.stratify_train_test_split(val_size=0,\n",
    "                                                      y_column='log_listing_price')"
   ]
  },
  {
   "cell_type": "code",
   "execution_count": 7,
   "metadata": {},
   "outputs": [
    {
     "name": "stdout",
     "output_type": "stream",
     "text": [
      "Log Scale Accuracy\n",
      "R2 Score: 0.5454074633046996\n",
      "MSE: 0.43798999970075375\n",
      "MAE 0.5134088438732489\n",
      "RMSE 0.6618081290682019\n",
      "Threshold Accuracy 0.6385154828566886\n",
      "\n",
      "Original Scale Accuracy\n",
      "R2 Score: 0.3491713283801632\n",
      "MSE: 193549.2874597735\n",
      "MAE 211.4213411969003\n",
      "RMSE 439.9423683390513\n",
      "Threshold Accuracy 0.12686580346575754\n"
     ]
    }
   ],
   "source": [
    "# Predict\n",
    "regression_prediction = base_regression.predict(drop_helpers(X_test))\n",
    "\n",
    "# Calculate accuracy\n",
    "print('Log Scale Accuracy')\n",
    "regression_accuracy(regression_prediction, y_test)\n",
    "threshold_accuracy(regression_prediction, y_test, p=0.1)\n",
    "\n",
    "print('\\nOriginal Scale Accuracy')\n",
    "regression_accuracy(regression_prediction, y_test, return_metrics=False, scale_up=True)\n",
    "threshold_accuracy(regression_prediction, y_test, p=0.1, scale_up=True)"
   ]
  },
  {
   "cell_type": "markdown",
   "metadata": {},
   "source": [
    "#### Regularized Regression Model"
   ]
  },
  {
   "cell_type": "code",
   "execution_count": 9,
   "metadata": {},
   "outputs": [
    {
     "name": "stdout",
     "output_type": "stream",
     "text": [
      "Model loaded successfully from /Users/rasmuskrebs/Documents/School/semester_3/data_mining/pricing_wizards/models/pickled_models/regularized_regression.pkl\n",
      "Dependent variable distribution is equal across all subsets\n"
     ]
    }
   ],
   "source": [
    "# Reset dataset as standard\n",
    "data.reset_dataset()\n",
    "\n",
    "# Perform preprocessing\n",
    "data.apply_function(ridge_regression_pipeline)\n",
    "\n",
    "# Load model\n",
    "ridge_regression = load_model(f'{model_dir}/regularized_regression.pkl')\n",
    "\n",
    "# Split\n",
    "_, X_test, _, y_test = data.stratify_train_test_split(val_size=0,\n",
    "                                                      y_column='log_listing_price')"
   ]
  },
  {
   "cell_type": "code",
   "execution_count": 10,
   "metadata": {},
   "outputs": [
    {
     "name": "stdout",
     "output_type": "stream",
     "text": [
      "Log Scale Accuracy\n",
      "R2 Score: 0.6060281080749564\n",
      "MSE: 0.37958332989970334\n",
      "MAE 0.4704520986562844\n",
      "RMSE 0.6161033435225809\n",
      "Threshold Accuracy 0.6783134019890127\n",
      "\n",
      "Original Scale Accuracy\n",
      "R2 Score: 0.4562210332121559\n",
      "MSE: 161713.8828494586\n",
      "MAE 191.055882600751\n",
      "RMSE 402.1366469863927\n",
      "Threshold Accuracy 0.15161364399145041\n"
     ]
    }
   ],
   "source": [
    "# Predict\n",
    "ridge_regression_prediction = ridge_regression.predict(drop_helpers(X_test))\n",
    "\n",
    "# Calculate accuracy\n",
    "print('Log Scale Accuracy')\n",
    "regression_accuracy(ridge_regression_prediction, y_test)\n",
    "threshold_accuracy(ridge_regression_prediction, y_test, p=0.1)\n",
    "\n",
    "print('\\nOriginal Scale Accuracy')\n",
    "regression_accuracy(ridge_regression_prediction, y_test, scale_up=True)\n",
    "threshold_accuracy(ridge_regression_prediction, y_test, p=0.1, scale_up=True)\n"
   ]
  },
  {
   "cell_type": "markdown",
   "metadata": {},
   "source": [
    "### Support Vector Machines (SVM)"
   ]
  },
  {
   "cell_type": "code",
   "execution_count": 13,
   "metadata": {},
   "outputs": [],
   "source": [
    "# Reset dataset as standard\n",
    "data.reset_dataset()"
   ]
  },
  {
   "cell_type": "code",
   "execution_count": 14,
   "metadata": {},
   "outputs": [
    {
     "name": "stderr",
     "output_type": "stream",
     "text": [
      "/opt/homebrew/anaconda3/lib/python3.11/site-packages/sklearn/base.py:318: UserWarning: Trying to unpickle estimator LinearSVR from version 1.3.2 when using version 1.2.2. This might lead to breaking code or invalid results. Use at your own risk. For more info please refer to:\n",
      "https://scikit-learn.org/stable/model_persistence.html#security-maintainability-limitations\n",
      "  warnings.warn(\n"
     ]
    },
    {
     "name": "stdout",
     "output_type": "stream",
     "text": [
      "Model loaded successfully from /Users/rasmuskrebs/Documents/School/semester_3/data_mining/pricing_wizards/models/pickled_models/prediction_svr_linear.pkl\n",
      "Dependent variable distribution is equal across all subsets\n"
     ]
    }
   ],
   "source": [
    "# Perform preprocessing\n",
    "data.apply_function(base_regression_pipeline)\n",
    "\n",
    "# Load model\n",
    "linear_svr = load_model(f'{model_dir}/prediction_svr_linear.pkl')\n",
    "\n",
    "# Split\n",
    "_, X_test, _, y_test = data.stratify_train_test_split(val_size=0,\n",
    "                                                      y_column='log_listing_price')"
   ]
  },
  {
   "cell_type": "code",
   "execution_count": 15,
   "metadata": {},
   "outputs": [],
   "source": [
    "# StandardScaler\n",
    "scaler = StandardScaler()\n",
    "X_test_scaled = scaler.fit_transform(X_test)"
   ]
  },
  {
   "cell_type": "code",
   "execution_count": 16,
   "metadata": {},
   "outputs": [
    {
     "name": "stdout",
     "output_type": "stream",
     "text": [
      "Log Scale Accuracy\n",
      "R2 Score: 0.545466400362267\n",
      "MSE: 0.4379332151305231\n",
      "MAE 0.5129098463702417\n",
      "RMSE 0.6617652265951446\n",
      "Threshold Accuracy 0.6390277507904825\n",
      "\n",
      "Original Scale Accuracy\n",
      "R2 Score: 0.35351415798828056\n",
      "MSE: 192257.77770787783\n",
      "MAE 211.55830725512112\n",
      "RMSE 438.47209456005044\n",
      "Threshold Accuracy 0.12861458020526045\n"
     ]
    }
   ],
   "source": [
    "# Predict\n",
    "svr_prediction = linear_svr.predict(X_test_scaled)\n",
    "\n",
    "# Calculate accuracy\n",
    "print('Log Scale Accuracy')\n",
    "regression_accuracy(svr_prediction, y_test)\n",
    "threshold_accuracy(svr_prediction, y_test, p=0.1)\n",
    "\n",
    "print('\\nOriginal Scale Accuracy')\n",
    "regression_accuracy(svr_prediction, y_test, return_metrics=False, scale_up=True)\n",
    "threshold_accuracy(svr_prediction, y_test, p=0.1, scale_up=True)"
   ]
  },
  {
   "cell_type": "markdown",
   "metadata": {},
   "source": [
    "### Random Forest"
   ]
  },
  {
   "cell_type": "code",
   "execution_count": 34,
   "metadata": {},
   "outputs": [
    {
     "name": "stdout",
     "output_type": "stream",
     "text": [
      "Dependent variable distribution is equal across all subsets\n"
     ]
    }
   ],
   "source": [
    "# Reset dataset as standard\n",
    "data.reset_dataset()\n",
    "\n",
    "# Perform preprocessing\n",
    "data.apply_function(base_regression_pipeline)\n",
    "\n",
    "# Split\n",
    "X_train, X_test, y_train, y_test = data.stratify_train_test_split(val_size=0,\n",
    "                                                      y_column='log_listing_price')"
   ]
  },
  {
   "cell_type": "code",
   "execution_count": 35,
   "metadata": {},
   "outputs": [],
   "source": [
    "# Extract model\n",
    "with zipfile.ZipFile(f'{model_dir}/prediction_random_forest.pkl.zip', 'r') as zip_ref:\n",
    "    # Extract all contents to the specified directory\n",
    "    zip_ref.extractall(model_dir)"
   ]
  },
  {
   "cell_type": "code",
   "execution_count": 36,
   "metadata": {},
   "outputs": [
    {
     "name": "stdout",
     "output_type": "stream",
     "text": [
      "Model loaded successfully from /Users/rasmuskrebs/Documents/School/semester_3/data_mining/pricing_wizards/models/pickled_models/prediction_random_forest.pkl\n"
     ]
    }
   ],
   "source": [
    "# Load model\n",
    "random_forest = load_model(f'{model_dir}/prediction_random_forest.pkl')"
   ]
  },
  {
   "cell_type": "code",
   "execution_count": 37,
   "metadata": {},
   "outputs": [
    {
     "name": "stderr",
     "output_type": "stream",
     "text": [
      "/opt/homebrew/anaconda3/lib/python3.11/site-packages/sklearn/base.py:439: UserWarning: X does not have valid feature names, but RandomForestRegressor was fitted with feature names\n",
      "  warnings.warn(\n"
     ]
    },
    {
     "name": "stdout",
     "output_type": "stream",
     "text": [
      "Log Scale Accuracy\n",
      "R2 Score: 0.6475837626045777\n",
      "MSE: 0.339545362608584\n",
      "MAE 0.4353815559570817\n",
      "RMSE 0.5827052107271601\n",
      "Threshold Accuracy 0.7054282736570631\n",
      "\n",
      "Original Scale Accuracy\n",
      "R2 Score: 0.5405418018555301\n",
      "MSE: 136637.8138306086\n",
      "MAE 170.49494265737152\n",
      "RMSE 369.6455245645598\n",
      "Threshold Accuracy 0.18325060500609422\n"
     ]
    }
   ],
   "source": [
    "# Predict\n",
    "rf_prediction = random_forest.predict(X_test.values)\n",
    "\n",
    "# Calculate accuracy\n",
    "print('Log Scale Accuracy')\n",
    "regression_accuracy(rf_prediction, y_test)\n",
    "threshold_accuracy(rf_prediction, y_test, p=0.1)\n",
    "\n",
    "print('\\nOriginal Scale Accuracy')\n",
    "regression_accuracy(rf_prediction, y_test, return_metrics=False, scale_up=True)\n",
    "threshold_accuracy(rf_prediction, y_test, p=0.1, scale_up=True)"
   ]
  },
  {
   "cell_type": "markdown",
   "metadata": {},
   "source": [
    "### Neural Net"
   ]
  },
  {
   "cell_type": "code",
   "execution_count": 17,
   "metadata": {},
   "outputs": [],
   "source": [
    "# Reset dataset, used during modelling and overwrites any previous changes\n",
    "data.reset_dataset()\n",
    "\n",
    "# Apply ridge regression pipeline\n",
    "data.apply_function(ridge_regression_pipeline)\n",
    "\n",
    "# Standard Scaling\n",
    "scaler = MinMaxScaler()\n",
    "X = scaler.fit_transform(drop_helpers(data.df))\n",
    "\n",
    "# Assigning X to data.df\n",
    "data.df[drop_helpers(data.df).columns] = X"
   ]
  },
  {
   "cell_type": "code",
   "execution_count": 18,
   "metadata": {},
   "outputs": [
    {
     "name": "stdout",
     "output_type": "stream",
     "text": [
      "Dependent variable distribution is equal across all subsets\n"
     ]
    }
   ],
   "source": [
    "# Splitting dataset\n",
    "X_train, X_test, y_train, y_test  = data.stratify_train_test_split(val_size=0, return_splits=True, y_column='log_listing_price')\n",
    "\n",
    "# Converting to PyTorch tensors\n",
    "X_test_tensor = torch.tensor(drop_helpers(X_test).to_numpy(), dtype=torch.float32)\n",
    "y_test_tensor = torch.tensor(y_test, dtype=torch.float32)"
   ]
  },
  {
   "cell_type": "code",
   "execution_count": 19,
   "metadata": {},
   "outputs": [
    {
     "data": {
      "text/plain": [
       "<All keys matched successfully>"
      ]
     },
     "execution_count": 19,
     "metadata": {},
     "output_type": "execute_result"
    }
   ],
   "source": [
    "# Load model\n",
    "network = RegressionNN(input_size=X_test_tensor.shape[1])\n",
    "\n",
    "# Load weights\n",
    "network.load_state_dict(torch.load(f'{model_dir}/regression_neural_net.pt'))"
   ]
  },
  {
   "cell_type": "code",
   "execution_count": 20,
   "metadata": {},
   "outputs": [],
   "source": [
    "# Determine device\n",
    "device = set_device()\n",
    "\n",
    "nn_prediction = test(network, X_test_tensor, device)"
   ]
  },
  {
   "cell_type": "code",
   "execution_count": 21,
   "metadata": {},
   "outputs": [
    {
     "name": "stdout",
     "output_type": "stream",
     "text": [
      "Log Scale Accuracy\n",
      "R2 Score: 0.6408822819519124\n",
      "MSE: 0.3460020931356468\n",
      "MAE 0.4392821771925936\n",
      "RMSE 0.588219426010096\n",
      "Threshold Accuracy 0.7047216971966579\n",
      "\n",
      "Original Scale Accuracy\n",
      "R2 Score: 0.5474373442587677\n",
      "MSE: 134587.15537471496\n",
      "MAE 173.7124975176537\n",
      "RMSE 366.8612208652135\n",
      "Threshold Accuracy 0.1768207592164067\n"
     ]
    }
   ],
   "source": [
    "# Calculate accuracy\n",
    "print('Log Scale Accuracy')\n",
    "regression_accuracy(nn_prediction, y_test)\n",
    "threshold_accuracy(nn_prediction, y_test, p=0.1)\n",
    "\n",
    "print('\\nOriginal Scale Accuracy')\n",
    "regression_accuracy(nn_prediction, y_test, scale_up=True)\n",
    "threshold_accuracy(nn_prediction, y_test, p=0.1, scale_up=True)\n"
   ]
  }
 ],
 "metadata": {
  "kernelspec": {
   "display_name": "Python 3 (ipykernel)",
   "language": "python",
   "name": "python3"
  },
  "language_info": {
   "codemirror_mode": {
    "name": "ipython",
    "version": 3
   },
   "file_extension": ".py",
   "mimetype": "text/x-python",
   "name": "python",
   "nbconvert_exporter": "python",
   "pygments_lexer": "ipython3",
   "version": "3.11.3"
  }
 },
 "nbformat": 4,
 "nbformat_minor": 4
}
