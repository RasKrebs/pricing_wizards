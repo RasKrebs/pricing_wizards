{
 "cells": [
  {
   "cell_type": "markdown",
   "metadata": {},
   "source": [
    "#### Setup"
   ]
  },
  {
   "cell_type": "code",
   "execution_count": 1,
   "metadata": {},
   "outputs": [
    {
     "ename": "ModuleNotFoundError",
     "evalue": "No module named '__init__'",
     "output_type": "error",
     "traceback": [
      "\u001b[0;31m---------------------------------------------------------------------------\u001b[0m",
      "\u001b[0;31mModuleNotFoundError\u001b[0m                       Traceback (most recent call last)",
      "Cell \u001b[0;32mIn[1], line 2\u001b[0m\n\u001b[1;32m      1\u001b[0m \u001b[38;5;66;03m# Import dataset class and accuracy functions\u001b[39;00m\n\u001b[0;32m----> 2\u001b[0m \u001b[38;5;28;01mfrom\u001b[39;00m \u001b[38;5;21;01m__init__\u001b[39;00m \u001b[38;5;28;01mimport\u001b[39;00m (PricingWizardDataset, \n\u001b[1;32m      3\u001b[0m                       regression_accuracy, \n\u001b[1;32m      4\u001b[0m                       threshold_accuracy, \n\u001b[1;32m      5\u001b[0m                       base_regression_pipeline, \n\u001b[1;32m      6\u001b[0m                       ridge_regression_pipeline,\n\u001b[1;32m      7\u001b[0m                       RegressionNN,\n\u001b[1;32m      8\u001b[0m                       load_model,\n\u001b[1;32m      9\u001b[0m                       drop_helpers,\n\u001b[1;32m     10\u001b[0m                       test,\n\u001b[1;32m     11\u001b[0m                       set_device)\n\u001b[1;32m     13\u001b[0m \u001b[38;5;66;03m# Model loading imports\u001b[39;00m\n\u001b[1;32m     14\u001b[0m \u001b[38;5;28;01mimport\u001b[39;00m \u001b[38;5;21;01mjoblib\u001b[39;00m\n",
      "\u001b[0;31mModuleNotFoundError\u001b[0m: No module named '__init__'"
     ]
    }
   ],
   "source": [
    "# Import dataset class and accuracy functions\n",
    "from __init__ import (PricingWizardDataset, \n",
    "                      regression_accuracy, \n",
    "                      threshold_accuracy, \n",
    "                      base_regression_pipeline, \n",
    "                      ridge_regression_pipeline,\n",
    "                      RegressionNN,\n",
    "                      load_model,\n",
    "                      drop_helpers,\n",
    "                      test,\n",
    "                      set_device)\n",
    "\n",
    "# Model loading imports\n",
    "import joblib\n",
    "import torch\n",
    "\n",
    "# Import other libraries\n",
    "import numpy as np\n",
    "import pandas as pd\n",
    "import matplotlib.pyplot as plt\n",
    "import seaborn as sns\n",
    "import os\n",
    "import zipfile\n",
    "from sklearn.preprocessing import MinMaxScaler\n",
    "from sklearn.preprocessing import StandardScaler"
   ]
  },
  {
   "cell_type": "code",
   "execution_count": 2,
   "metadata": {},
   "outputs": [
    {
     "name": "stdout",
     "output_type": "stream",
     "text": [
      "Dataset Loaded: post_preprocessing_without_dummies\n",
      "\tNumber of Rows: 283055\n",
      "\tNumber of Columns: 22\n",
      "\tOutlier Removal: True\n",
      "\tTrain Size: 0.8\n",
      "\tTest Size: 0.2\n",
      "\tRandom State: 42\n"
     ]
    }
   ],
   "source": [
    "# Load Data\n",
    "data = PricingWizardDataset()"
   ]
  },
  {
   "cell_type": "code",
   "execution_count": 3,
   "metadata": {},
   "outputs": [],
   "source": [
    "# Current working directory\n",
    "cwd = os.getcwd()\n",
    "\n",
    "# model directory\n",
    "model_dir = os.path.join(cwd, 'models', 'pickled_models')"
   ]
  },
  {
   "cell_type": "code",
   "execution_count": 4,
   "metadata": {},
   "outputs": [
    {
     "data": {
      "text/plain": [
       "['.DS_Store',\n",
       " 'prediction_svr_linear.pkl',\n",
       " 'regularized_regression.pkl',\n",
       " 'prediction_random_forest.pkl.zip',\n",
       " 'base_regression.pkl',\n",
       " 'regression_neural_net.pt']"
      ]
     },
     "execution_count": 4,
     "metadata": {},
     "output_type": "execute_result"
    }
   ],
   "source": [
    "# Files in model directory\n",
    "os.listdir(model_dir)"
   ]
  },
  {
   "cell_type": "code",
   "execution_count": 5,
   "metadata": {},
   "outputs": [],
   "source": [
    "df = data.df.copy()"
   ]
  },
  {
   "cell_type": "markdown",
   "metadata": {},
   "source": [
    "#### Base Regression Model"
   ]
  },
  {
   "cell_type": "code",
   "execution_count": 6,
   "metadata": {},
   "outputs": [],
   "source": [
    "# Reset dataset as standard\n",
    "data.reset_dataset()"
   ]
  },
  {
   "cell_type": "code",
   "execution_count": 7,
   "metadata": {},
   "outputs": [
    {
     "name": "stdout",
     "output_type": "stream",
     "text": [
      "Model loaded successfully from /Users/rasmuskrebs/Documents/School/semester_3/data_mining/pricing_wizards/models/pickled_models/base_regression.pkl\n",
      "Dependent variable distribution is equal across all subsets\n"
     ]
    }
   ],
   "source": [
    "# Perform preprocessing\n",
    "data.apply_function(base_regression_pipeline)\n",
    "\n",
    "\n",
    "# Load model\n",
    "base_regression = load_model(f'{model_dir}/base_regression.pkl')\n",
    "\n",
    "# Split\n",
    "_, X_test, _, y_test = data.stratify_train_test_split(val_size=0,\n",
    "                                                      y_column='log_listing_price')"
   ]
  },
  {
   "cell_type": "code",
   "execution_count": 8,
   "metadata": {},
   "outputs": [
    {
     "name": "stdout",
     "output_type": "stream",
     "text": [
      "Log Scale Accuracy\n",
      "R2 Score: 0.5454074633046996\n",
      "MSE: 0.43798999970075375\n",
      "MAE 0.5134088438732489\n",
      "RMSE 0.6618081290682019\n",
      "Threshold Accuracy 0.6385154828566886\n",
      "\n",
      "Original Scale Accuracy\n",
      "R2 Score: 0.3491713283801632\n",
      "MSE: 193549.2874597735\n",
      "MAE 211.4213411969003\n",
      "RMSE 439.9423683390513\n",
      "Threshold Accuracy 0.12686580346575754\n"
     ]
    }
   ],
   "source": [
    "# Predict\n",
    "regression_prediction = base_regression.predict(drop_helpers(X_test))\n",
    "\n",
    "# Calculate accuracy\n",
    "print('Log Scale Accuracy')\n",
    "regression_accuracy(regression_prediction, y_test)\n",
    "threshold_accuracy(regression_prediction, y_test, p=0.1)\n",
    "\n",
    "print('\\nOriginal Scale Accuracy')\n",
    "regression_accuracy(regression_prediction, y_test, return_metrics=False, scale_up=True)\n",
    "threshold_accuracy(regression_prediction, y_test, p=0.1, scale_up=True)"
   ]
  },
  {
   "cell_type": "markdown",
   "metadata": {},
   "source": [
    "#### Regularized Regression Model"
   ]
  },
  {
   "cell_type": "code",
   "execution_count": 9,
   "metadata": {},
   "outputs": [
    {
     "name": "stdout",
     "output_type": "stream",
     "text": [
      "Model loaded successfully from /Users/rasmuskrebs/Documents/School/semester_3/data_mining/pricing_wizards/models/pickled_models/regularized_regression.pkl\n",
      "Dependent variable distribution is equal across all subsets\n"
     ]
    }
   ],
   "source": [
    "# Reset dataset as standard\n",
    "data.reset_dataset()\n",
    "\n",
    "# Perform preprocessing\n",
    "data.apply_function(ridge_regression_pipeline)\n",
    "\n",
    "# Load model\n",
    "ridge_regression = load_model(f'{model_dir}/regularized_regression.pkl')\n",
    "\n",
    "# Split\n",
    "_, X_test, _, y_test = data.stratify_train_test_split(val_size=0,\n",
    "                                                      y_column='log_listing_price')"
   ]
  },
  {
   "cell_type": "code",
   "execution_count": 10,
   "metadata": {},
   "outputs": [
    {
     "name": "stdout",
     "output_type": "stream",
     "text": [
      "Log Scale Accuracy\n",
      "R2 Score: 0.6060281080749564\n",
      "MSE: 0.37958332989970334\n",
      "MAE 0.4704520986562844\n",
      "RMSE 0.6161033435225809\n",
      "Threshold Accuracy 0.6783134019890127\n",
      "\n",
      "Original Scale Accuracy\n",
      "R2 Score: 0.4562210332121559\n",
      "MSE: 161713.8828494586\n",
      "MAE 191.055882600751\n",
      "RMSE 402.1366469863927\n",
      "Threshold Accuracy 0.15161364399145041\n"
     ]
    }
   ],
   "source": [
    "# Predict\n",
    "ridge_regression_prediction = ridge_regression.predict(drop_helpers(X_test))\n",
    "\n",
    "# Calculate accuracy\n",
    "print('Log Scale Accuracy')\n",
    "regression_accuracy(ridge_regression_prediction, y_test)\n",
    "threshold_accuracy(ridge_regression_prediction, y_test, p=0.1)\n",
    "\n",
    "print('\\nOriginal Scale Accuracy')\n",
    "regression_accuracy(ridge_regression_prediction, y_test, scale_up=True)\n",
    "threshold_accuracy(ridge_regression_prediction, y_test, p=0.1, scale_up=True)\n"
   ]
  },
  {
   "cell_type": "markdown",
   "metadata": {},
   "source": [
    "### Neural Net"
   ]
  },
  {
   "cell_type": "code",
   "execution_count": 14,
   "metadata": {},
   "outputs": [],
   "source": [
    "# Reset dataset, used during modelling and overwrites any previous changes\n",
    "data.reset_dataset()\n",
    "\n",
    "# Apply ridge regression pipeline\n",
    "data.apply_function(ridge_regression_pipeline)"
   ]
  },
  {
   "cell_type": "code",
   "execution_count": 15,
   "metadata": {},
   "outputs": [
    {
     "data": {
      "text/html": [
       "<div>\n",
       "<style scoped>\n",
       "    .dataframe tbody tr th:only-of-type {\n",
       "        vertical-align: middle;\n",
       "    }\n",
       "\n",
       "    .dataframe tbody tr th {\n",
       "        vertical-align: top;\n",
       "    }\n",
       "\n",
       "    .dataframe thead th {\n",
       "        text-align: right;\n",
       "    }\n",
       "</style>\n",
       "<table border=\"1\" class=\"dataframe\">\n",
       "  <thead>\n",
       "    <tr style=\"text-align: right;\">\n",
       "      <th></th>\n",
       "      <th>classified_id</th>\n",
       "      <th>log_listing_price</th>\n",
       "      <th>condition_name</th>\n",
       "      <th>brand_name_&amp; Other Stories</th>\n",
       "      <th>brand_name_(di)vision</th>\n",
       "      <th>brand_name_66 North</th>\n",
       "      <th>brand_name_7 DAYS ACTIVE</th>\n",
       "      <th>brand_name_A.P.C.</th>\n",
       "      <th>brand_name_AF Agger</th>\n",
       "      <th>brand_name_AMI Paris</th>\n",
       "      <th>...</th>\n",
       "      <th>subsubsubcategory_name_Wall lights</th>\n",
       "      <th>subsubsubcategory_name_Wallets</th>\n",
       "      <th>subsubsubcategory_name_Watches</th>\n",
       "      <th>subsubsubcategory_name_Weekend bags</th>\n",
       "      <th>subsubsubcategory_name_Wireless speakers</th>\n",
       "      <th>subsubsubcategory_name_Women</th>\n",
       "      <th>subsubsubcategory_name_iPhone</th>\n",
       "      <th>subsubsubcategory_name_iPhones</th>\n",
       "      <th>subsubsubcategory_name_Øreringe</th>\n",
       "      <th>brand_name_other</th>\n",
       "    </tr>\n",
       "  </thead>\n",
       "  <tbody>\n",
       "    <tr>\n",
       "      <th>0</th>\n",
       "      <td>30343099</td>\n",
       "      <td>7.170120</td>\n",
       "      <td>3</td>\n",
       "      <td>0</td>\n",
       "      <td>0</td>\n",
       "      <td>0</td>\n",
       "      <td>0</td>\n",
       "      <td>0</td>\n",
       "      <td>0</td>\n",
       "      <td>0</td>\n",
       "      <td>...</td>\n",
       "      <td>0</td>\n",
       "      <td>0</td>\n",
       "      <td>0</td>\n",
       "      <td>0</td>\n",
       "      <td>0</td>\n",
       "      <td>0</td>\n",
       "      <td>0</td>\n",
       "      <td>0</td>\n",
       "      <td>0</td>\n",
       "      <td>0</td>\n",
       "    </tr>\n",
       "    <tr>\n",
       "      <th>1</th>\n",
       "      <td>30346312</td>\n",
       "      <td>5.860786</td>\n",
       "      <td>3</td>\n",
       "      <td>0</td>\n",
       "      <td>0</td>\n",
       "      <td>0</td>\n",
       "      <td>0</td>\n",
       "      <td>0</td>\n",
       "      <td>0</td>\n",
       "      <td>0</td>\n",
       "      <td>...</td>\n",
       "      <td>0</td>\n",
       "      <td>0</td>\n",
       "      <td>0</td>\n",
       "      <td>0</td>\n",
       "      <td>0</td>\n",
       "      <td>0</td>\n",
       "      <td>0</td>\n",
       "      <td>0</td>\n",
       "      <td>0</td>\n",
       "      <td>0</td>\n",
       "    </tr>\n",
       "    <tr>\n",
       "      <th>2</th>\n",
       "      <td>30364278</td>\n",
       "      <td>4.795791</td>\n",
       "      <td>2</td>\n",
       "      <td>0</td>\n",
       "      <td>0</td>\n",
       "      <td>0</td>\n",
       "      <td>0</td>\n",
       "      <td>0</td>\n",
       "      <td>0</td>\n",
       "      <td>0</td>\n",
       "      <td>...</td>\n",
       "      <td>0</td>\n",
       "      <td>0</td>\n",
       "      <td>0</td>\n",
       "      <td>0</td>\n",
       "      <td>0</td>\n",
       "      <td>1</td>\n",
       "      <td>0</td>\n",
       "      <td>0</td>\n",
       "      <td>0</td>\n",
       "      <td>0</td>\n",
       "    </tr>\n",
       "    <tr>\n",
       "      <th>3</th>\n",
       "      <td>30406315</td>\n",
       "      <td>6.111467</td>\n",
       "      <td>5</td>\n",
       "      <td>0</td>\n",
       "      <td>0</td>\n",
       "      <td>0</td>\n",
       "      <td>0</td>\n",
       "      <td>0</td>\n",
       "      <td>0</td>\n",
       "      <td>0</td>\n",
       "      <td>...</td>\n",
       "      <td>0</td>\n",
       "      <td>0</td>\n",
       "      <td>0</td>\n",
       "      <td>0</td>\n",
       "      <td>0</td>\n",
       "      <td>0</td>\n",
       "      <td>0</td>\n",
       "      <td>0</td>\n",
       "      <td>0</td>\n",
       "      <td>0</td>\n",
       "    </tr>\n",
       "    <tr>\n",
       "      <th>4</th>\n",
       "      <td>30420441</td>\n",
       "      <td>6.398595</td>\n",
       "      <td>4</td>\n",
       "      <td>0</td>\n",
       "      <td>0</td>\n",
       "      <td>0</td>\n",
       "      <td>0</td>\n",
       "      <td>0</td>\n",
       "      <td>0</td>\n",
       "      <td>0</td>\n",
       "      <td>...</td>\n",
       "      <td>0</td>\n",
       "      <td>0</td>\n",
       "      <td>0</td>\n",
       "      <td>0</td>\n",
       "      <td>0</td>\n",
       "      <td>0</td>\n",
       "      <td>0</td>\n",
       "      <td>0</td>\n",
       "      <td>0</td>\n",
       "      <td>0</td>\n",
       "    </tr>\n",
       "  </tbody>\n",
       "</table>\n",
       "<p>5 rows × 830 columns</p>\n",
       "</div>"
      ],
      "text/plain": [
       "   classified_id  log_listing_price  condition_name  \\\n",
       "0       30343099           7.170120               3   \n",
       "1       30346312           5.860786               3   \n",
       "2       30364278           4.795791               2   \n",
       "3       30406315           6.111467               5   \n",
       "4       30420441           6.398595               4   \n",
       "\n",
       "   brand_name_& Other Stories  brand_name_(di)vision  brand_name_66 North  \\\n",
       "0                           0                      0                    0   \n",
       "1                           0                      0                    0   \n",
       "2                           0                      0                    0   \n",
       "3                           0                      0                    0   \n",
       "4                           0                      0                    0   \n",
       "\n",
       "   brand_name_7 DAYS ACTIVE  brand_name_A.P.C.  brand_name_AF Agger  \\\n",
       "0                         0                  0                    0   \n",
       "1                         0                  0                    0   \n",
       "2                         0                  0                    0   \n",
       "3                         0                  0                    0   \n",
       "4                         0                  0                    0   \n",
       "\n",
       "   brand_name_AMI Paris  ...  subsubsubcategory_name_Wall lights  \\\n",
       "0                     0  ...                                   0   \n",
       "1                     0  ...                                   0   \n",
       "2                     0  ...                                   0   \n",
       "3                     0  ...                                   0   \n",
       "4                     0  ...                                   0   \n",
       "\n",
       "   subsubsubcategory_name_Wallets  subsubsubcategory_name_Watches  \\\n",
       "0                               0                               0   \n",
       "1                               0                               0   \n",
       "2                               0                               0   \n",
       "3                               0                               0   \n",
       "4                               0                               0   \n",
       "\n",
       "   subsubsubcategory_name_Weekend bags  \\\n",
       "0                                    0   \n",
       "1                                    0   \n",
       "2                                    0   \n",
       "3                                    0   \n",
       "4                                    0   \n",
       "\n",
       "   subsubsubcategory_name_Wireless speakers  subsubsubcategory_name_Women  \\\n",
       "0                                         0                             0   \n",
       "1                                         0                             0   \n",
       "2                                         0                             1   \n",
       "3                                         0                             0   \n",
       "4                                         0                             0   \n",
       "\n",
       "   subsubsubcategory_name_iPhone  subsubsubcategory_name_iPhones  \\\n",
       "0                              0                               0   \n",
       "1                              0                               0   \n",
       "2                              0                               0   \n",
       "3                              0                               0   \n",
       "4                              0                               0   \n",
       "\n",
       "   subsubsubcategory_name_Øreringe  brand_name_other  \n",
       "0                                0                 0  \n",
       "1                                0                 0  \n",
       "2                                0                 0  \n",
       "3                                0                 0  \n",
       "4                                0                 0  \n",
       "\n",
       "[5 rows x 830 columns]"
      ]
     },
     "execution_count": 15,
     "metadata": {},
     "output_type": "execute_result"
    }
   ],
   "source": [
    "# Inspecting head\n",
    "data.head()"
   ]
  },
  {
   "cell_type": "code",
   "execution_count": 16,
   "metadata": {},
   "outputs": [],
   "source": [
    "# Standard Scaling\n",
    "scaler = MinMaxScaler()\n",
    "X = scaler.fit_transform(drop_helpers(data.df))"
   ]
  },
  {
   "cell_type": "code",
   "execution_count": 17,
   "metadata": {},
   "outputs": [],
   "source": [
    "# Assigning X to data.df\n",
    "data.df[drop_helpers(data.df).columns] = X"
   ]
  },
  {
   "cell_type": "code",
   "execution_count": 20,
   "metadata": {},
   "outputs": [
    {
     "name": "stdout",
     "output_type": "stream",
     "text": [
      "Dependent variable distribution is equal across all subsets\n"
     ]
    }
   ],
   "source": [
    "# Splitting dataset\n",
    "X_train, X_test, y_train, y_test  = data.stratify_train_test_split(val_size=0, return_splits=True, y_column='log_listing_price')\n",
    "\n",
    "# Converting to PyTorch tensors\n",
    "X_test_tensor = torch.tensor(drop_helpers(X_test).to_numpy(), dtype=torch.float32)\n",
    "y_test_tensor = torch.tensor(y_test, dtype=torch.float32)"
   ]
  },
  {
   "cell_type": "code",
   "execution_count": 21,
   "metadata": {},
   "outputs": [
    {
     "data": {
      "text/plain": [
       "<All keys matched successfully>"
      ]
     },
     "execution_count": 21,
     "metadata": {},
     "output_type": "execute_result"
    }
   ],
   "source": [
    "# Load model\n",
    "network = RegressionNN(input_size=X_test_tensor.shape[1])\n",
    "\n",
    "# Load weights\n",
    "network.load_state_dict(torch.load(f'{model_dir}/regression_neural_net.pt'))"
   ]
  },
  {
   "cell_type": "code",
   "execution_count": 22,
   "metadata": {},
   "outputs": [],
   "source": [
    "# Determine device\n",
    "device = set_device()\n",
    "\n",
    "nn_prediction = test(network, X_test_tensor, device)"
   ]
  },
  {
   "cell_type": "code",
   "execution_count": 23,
   "metadata": {},
   "outputs": [
    {
     "name": "stdout",
     "output_type": "stream",
     "text": [
      "Log Scale Accuracy\n",
      "R2 Score: 0.6408822819519124\n",
      "MSE: 0.3460020931356468\n",
      "MAE 0.4392821771925936\n",
      "RMSE 0.588219426010096\n",
      "Threshold Accuracy 0.7047216971966579\n",
      "\n",
      "Original Scale Accuracy\n",
      "R2 Score: 0.5474373442587677\n",
      "MSE: 134587.15537471496\n",
      "MAE 173.7124975176537\n",
      "RMSE 366.8612208652135\n",
      "Threshold Accuracy 0.1768207592164067\n"
     ]
    }
   ],
   "source": [
    "# Calculate accuracy\n",
    "print('Log Scale Accuracy')\n",
    "regression_accuracy(nn_prediction, y_test)\n",
    "threshold_accuracy(nn_prediction, y_test, p=0.1)\n",
    "\n",
    "print('\\nOriginal Scale Accuracy')\n",
    "regression_accuracy(nn_prediction, y_test, scale_up=True)\n",
    "threshold_accuracy(nn_prediction, y_test, p=0.1, scale_up=True)\n"
   ]
  },
  {
   "cell_type": "code",
   "execution_count": 31,
   "metadata": {},
   "outputs": [
    {
     "data": {
      "text/plain": [
       "11.729181350680463"
      ]
     },
     "execution_count": 31,
     "metadata": {},
     "output_type": "execute_result"
    }
   ],
   "source": [
    "x = 124142\n",
    "log_of_x = np.log(x)\n",
    "log_of_x"
   ]
  },
  {
   "cell_type": "code",
   "execution_count": 32,
   "metadata": {},
   "outputs": [
    {
     "data": {
      "text/plain": [
       "124142.00000000006"
      ]
     },
     "execution_count": 32,
     "metadata": {},
     "output_type": "execute_result"
    }
   ],
   "source": [
    "np.exp(log_of_x)"
   ]
  },
  {
   "cell_type": "markdown",
   "metadata": {},
   "source": [
    "### Random Forest"
   ]
  },
  {
   "cell_type": "code",
   "execution_count": null,
   "metadata": {},
   "outputs": [],
   "source": [
    "# Extract model\n",
    "with zipfile.ZipFile(f'{model_dir}/prediction_random_forest.pkl.zip', 'r') as zip_ref:\n",
    "    # Extract all contents to the specified directory\n",
    "    zip_ref.extractall(model_dir)"
   ]
  },
  {
   "cell_type": "code",
   "execution_count": null,
   "metadata": {},
   "outputs": [],
   "source": [
    "# Reset dataset as standard\n",
    "data.reset_dataset()"
   ]
  },
  {
   "cell_type": "code",
   "execution_count": null,
   "metadata": {},
   "outputs": [],
   "source": [
    "# Perform preprocessing\n",
    "data.apply_function(base_regression_pipeline)\n",
    "\n",
    "# Load model\n",
    "random_forest = load_model(f'{model_dir}/prediction_random_forest.pkl')\n",
    "\n",
    "# Split\n",
    "_, X_test, _, y_test = data.stratify_train_test_split(val_size=0,\n",
    "                                                      y_column='log_listing_price')"
   ]
  },
  {
   "cell_type": "code",
   "execution_count": null,
   "metadata": {},
   "outputs": [],
   "source": [
    "# Predict\n",
    "rf_prediction = random_forest.predict(X_test.values)\n",
    "\n",
    "# Calculate accuracy\n",
    "print('Log Scale Accuracy')\n",
    "regression_accuracy(rf_prediction, y_test)\n",
    "threshold_accuracy(rf_prediction, y_test, p=0.1)\n",
    "\n",
    "print('\\nOriginal Scale Accuracy')\n",
    "regression_accuracy(rf_prediction, y_test, return_metrics=False, scale_up=True)\n",
    "threshold_accuracy(rf_prediction, y_test, p=0.1, scale_up=True)"
   ]
  },
  {
   "cell_type": "markdown",
   "metadata": {},
   "source": [
    "### Support Vector Machines (SVM)"
   ]
  },
  {
   "cell_type": "code",
   "execution_count": null,
   "metadata": {},
   "outputs": [],
   "source": [
    "# Reset dataset as standard\n",
    "data.reset_dataset()"
   ]
  },
  {
   "cell_type": "code",
   "execution_count": null,
   "metadata": {},
   "outputs": [],
   "source": [
    "# Perform preprocessing\n",
    "data.apply_function(base_regression_pipeline)\n",
    "\n",
    "# Load model\n",
    "linear_svr = load_model(f'{model_dir}/prediction_svr_linear.pkl')\n",
    "\n",
    "# Split\n",
    "_, X_test, _, y_test = data.stratify_train_test_split(val_size=0,\n",
    "                                                      y_column='log_listing_price')"
   ]
  },
  {
   "cell_type": "code",
   "execution_count": null,
   "metadata": {},
   "outputs": [],
   "source": [
    "# StandardScaler\n",
    "scaler = StandardScaler()\n",
    "X_test_scaled = scaler.fit_transform(X_test)"
   ]
  },
  {
   "cell_type": "code",
   "execution_count": null,
   "metadata": {},
   "outputs": [],
   "source": [
    "# Predict\n",
    "svr_prediction = linear_svr.predict(X_test_scaled)\n",
    "\n",
    "# Calculate accuracy\n",
    "print('Log Scale Accuracy')\n",
    "regression_accuracy(svr_prediction, y_test)\n",
    "threshold_accuracy(svr_prediction, y_test, p=0.1)\n",
    "\n",
    "print('\\nOriginal Scale Accuracy')\n",
    "regression_accuracy(svr_prediction, y_test, return_metrics=False, scale_up=True)\n",
    "threshold_accuracy(svr_prediction, y_test, p=0.1, scale_up=True)"
   ]
  }
 ],
 "metadata": {
  "kernelspec": {
   "display_name": "Python 3 (ipykernel)",
   "language": "python",
   "name": "python3"
  },
  "language_info": {
   "codemirror_mode": {
    "name": "ipython",
    "version": 3
   },
   "file_extension": ".py",
   "mimetype": "text/x-python",
   "name": "python",
   "nbconvert_exporter": "python",
   "pygments_lexer": "ipython3",
   "version": "3.10.4"
  }
 },
 "nbformat": 4,
 "nbformat_minor": 4
}
