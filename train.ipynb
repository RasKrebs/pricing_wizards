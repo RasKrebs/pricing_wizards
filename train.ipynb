{
 "cells": [
  {
   "cell_type": "markdown",
   "metadata": {},
   "source": [
    "```markdown\n",
    "This is just a notebook version of the train.py file. Use this to ensure training works as intended\n",
    "```"
   ]
  },
  {
   "cell_type": "code",
   "execution_count": 1,
   "metadata": {},
   "outputs": [],
   "source": [
    "# Library Import\n",
    "import pandas as pd\n",
    "from utils.Dataloader import PricingWizardDataset\n",
    "from utils.DataTransformation import base_regression_pipeline, ridge_regression_pipeline\n",
    "from models.base_linear_regression import linear_regression\n",
    "from models.regularized_regression import regularized_regression"
   ]
  },
  {
   "cell_type": "code",
   "execution_count": 2,
   "metadata": {},
   "outputs": [
    {
     "name": "stdout",
     "output_type": "stream",
     "text": [
      "Dataset Loaded: post_preprocessing_without_dummies\n",
      "\tNumber of Rows: 283055\n",
      "\tNumber of Columns: 22\n",
      "\tOutlier Removal: True\n",
      "\tTrain Size: 0.8\n",
      "\tTest Size: 0.2\n",
      "\tRandom State: 42\n"
     ]
    }
   ],
   "source": [
    "# Load data\n",
    "data = PricingWizardDataset()"
   ]
  },
  {
   "cell_type": "markdown",
   "metadata": {},
   "source": [
    "## Base Linear Regression"
   ]
  },
  {
   "cell_type": "code",
   "execution_count": 3,
   "metadata": {},
   "outputs": [
    {
     "name": "stdout",
     "output_type": "stream",
     "text": [
      "Applying data preparation...\n",
      "Done.\n"
     ]
    }
   ],
   "source": [
    "# 1. Data transformations\n",
    "print('Applying data preparation...')    \n",
    "data.apply_function(base_regression_pipeline)\n",
    "print('Done.')"
   ]
  },
  {
   "cell_type": "code",
   "execution_count": 4,
   "metadata": {},
   "outputs": [
    {
     "name": "stdout",
     "output_type": "stream",
     "text": [
      "Dependent variable distribution is equal across all subsets\n"
     ]
    }
   ],
   "source": [
    "# 2. Stratify Split\n",
    "data.stratify_train_test_split(y_column='log_listing_price', \n",
    "                               val_size=0,\n",
    "                               return_splits=False)"
   ]
  },
  {
   "cell_type": "code",
   "execution_count": 5,
   "metadata": {},
   "outputs": [
    {
     "name": "stdout",
     "output_type": "stream",
     "text": [
      "Test Results:\n",
      "R2 Score: 0.5452212770709474\n",
      "MSE: 0.4381693860784058\n",
      "MAE 0.5134875030165035\n",
      "RMSE 0.6619436426754213\n"
     ]
    }
   ],
   "source": [
    "# 3. Train model\n",
    "results = linear_regression(data)\n",
    "\n",
    "# 4. Print results\n",
    "print('Test Results:')\n",
    "print('R2 Score:', results['r2'])\n",
    "print('MSE:', results['mse'])\n",
    "print('MAE', results['mae'])\n",
    "print('RMSE', results['rmse'])"
   ]
  },
  {
   "cell_type": "markdown",
   "metadata": {},
   "source": [
    "## Regularizated Regression"
   ]
  },
  {
   "cell_type": "code",
   "execution_count": 6,
   "metadata": {},
   "outputs": [
    {
     "name": "stdout",
     "output_type": "stream",
     "text": [
      "Applying data preparation...\n",
      "Done.\n"
     ]
    }
   ],
   "source": [
    "# Reset Dataset\n",
    "data.reset_dataset()\n",
    "\n",
    "# 1. Data transformations\n",
    "print('Applying data preparation...')    \n",
    "data.apply_function(ridge_regression_pipeline)\n",
    "print('Done.')"
   ]
  },
  {
   "cell_type": "code",
   "execution_count": 7,
   "metadata": {},
   "outputs": [
    {
     "name": "stdout",
     "output_type": "stream",
     "text": [
      "Dependent variable distribution is equal across all subsets\n"
     ]
    }
   ],
   "source": [
    "# 2. Stratify Split\n",
    "data.stratify_train_test_split(y_column='log_listing_price', \n",
    "                               val_size=0,\n",
    "                               return_splits=False)"
   ]
  },
  {
   "cell_type": "code",
   "execution_count": 8,
   "metadata": {},
   "outputs": [
    {
     "name": "stdout",
     "output_type": "stream",
     "text": [
      "Training model using GridSearchCV: regularized_regression\n",
      "Fitting 5 folds for each of 13 candidates, totalling 65 fits\n",
      "[CV] END ........................alpha=0.0031622776601683794; total time=  30.5s\n",
      "[CV] END ........................alpha=0.0031622776601683794; total time=  30.4s\n",
      "[CV] END ........................................alpha=0.001; total time=  30.6s\n",
      "[CV] END .........................................alpha=0.01; total time=  30.9s\n",
      "[CV] END .........................................alpha=0.01; total time=  31.3s\n",
      "[CV] END ........................alpha=0.0031622776601683794; total time=  31.3s\n",
      "[CV] END ........................................alpha=0.001; total time=  31.3s\n",
      "[CV] END ........................................alpha=0.001; total time=  31.5s\n",
      "[CV] END ........................................alpha=0.001; total time=  31.7s\n",
      "[CV] END ........................alpha=0.0031622776601683794; total time=  31.7s\n",
      "[CV] END ........................alpha=0.0031622776601683794; total time=  31.4s\n",
      "[CV] END ........................................alpha=0.001; total time=  31.9s\n",
      "[CV] END .........................................alpha=0.01; total time=  25.6s\n",
      "[CV] END .........................................alpha=0.01; total time=  27.8s\n",
      "[CV] END ..........................alpha=0.03162277660168379; total time=  28.1s\n",
      "[CV] END ..........................................alpha=0.1; total time=  28.2s\n",
      "[CV] END ..........................alpha=0.03162277660168379; total time=  28.1s\n",
      "[CV] END .........................................alpha=0.01; total time=  28.7s\n",
      "[CV] END ..........................alpha=0.03162277660168379; total time=  29.0s\n",
      "[CV] END ..........................alpha=0.03162277660168379; total time=  29.1s\n",
      "[CV] END ..........................................alpha=0.1; total time=  29.1s\n",
      "[CV] END ..........................alpha=0.03162277660168379; total time=  29.4s\n",
      "[CV] END ..........................................alpha=0.1; total time=  29.4s\n",
      "[CV] END ..........................................alpha=0.1; total time=  29.6s\n",
      "[CV] END ..........................................alpha=0.1; total time=  25.9s\n",
      "[CV] END ..........................alpha=0.31622776601683794; total time=  27.3s\n",
      "[CV] END ..........................alpha=0.31622776601683794; total time=  27.3s\n",
      "[CV] END ..........................alpha=0.31622776601683794; total time=  27.1s\n",
      "[CV] END ..........................................alpha=1.0; total time=  26.7s\n",
      "[CV] END ..........................alpha=0.31622776601683794; total time=  27.2s\n",
      "[CV] END ..........................alpha=0.31622776601683794; total time=  27.2s\n",
      "[CV] END ..........................................alpha=1.0; total time=  26.8s\n",
      "[CV] END ...........................alpha=3.1622776601683795; total time=  26.6s\n",
      "[CV] END ..........................................alpha=1.0; total time=  26.8s\n",
      "[CV] END ..........................................alpha=1.0; total time=  26.8s\n",
      "[CV] END ..........................................alpha=1.0; total time=  27.0s\n",
      "[CV] END ...........................alpha=3.1622776601683795; total time=  25.9s\n",
      "[CV] END ...........................alpha=3.1622776601683795; total time=  19.6s\n",
      "[CV] END .........................................alpha=10.0; total time=  26.4s\n",
      "[CV] END .........................................alpha=10.0; total time=  26.4s\n",
      "[CV] END ...........................alpha=3.1622776601683795; total time=  26.7s\n",
      "[CV] END ...........................alpha=3.1622776601683795; total time=  26.7s\n",
      "[CV] END ...........................alpha=31.622776601683793; total time=  26.5s\n",
      "[CV] END ...........................alpha=31.622776601683793; total time=  26.3s\n",
      "[CV] END ...........................alpha=31.622776601683793; total time=  27.3s\n",
      "[CV] END .........................................alpha=10.0; total time=  27.7s\n",
      "[CV] END .........................................alpha=10.0; total time=  27.6s\n",
      "[CV] END .........................................alpha=10.0; total time=  27.8s\n",
      "[CV] END ...........................alpha=31.622776601683793; total time=  24.9s\n",
      "[CV] END ...........................alpha=31.622776601683793; total time=  25.2s\n",
      "[CV] END ........................................alpha=100.0; total time=  25.4s\n",
      "[CV] END ...........................alpha=316.22776601683796; total time=  26.5s\n",
      "[CV] END ...........................alpha=316.22776601683796; total time=  26.6s\n",
      "[CV] END ........................................alpha=100.0; total time=  27.8s\n",
      "[CV] END ...........................alpha=316.22776601683796; total time=  27.7s\n",
      "[CV] END ...........................alpha=316.22776601683796; total time=  27.8s\n",
      "[CV] END ........................................alpha=100.0; total time=  28.2s\n",
      "[CV] END ........................................alpha=100.0; total time=  28.8s\n",
      "[CV] END ........................................alpha=100.0; total time=  28.7s\n",
      "[CV] END ...........................alpha=316.22776601683796; total time=  28.7s\n",
      "[CV] END .......................................alpha=1000.0; total time=  21.3s\n",
      "[CV] END .......................................alpha=1000.0; total time=  21.6s\n",
      "[CV] END .......................................alpha=1000.0; total time=   6.2s\n",
      "[CV] END .......................................alpha=1000.0; total time=   8.0s\n",
      "[CV] END .......................................alpha=1000.0; total time=   6.4s\n"
     ]
    }
   ],
   "source": [
    "# Make predictions on the test data\n",
    "results = regularized_regression(data, -1)"
   ]
  },
  {
   "cell_type": "code",
   "execution_count": 16,
   "metadata": {},
   "outputs": [
    {
     "name": "stdout",
     "output_type": "stream",
     "text": [
      "Test Results:\n",
      "R2 Score: 0.5695965129992877\n",
      "MSE: 0.4146843776034087\n",
      "MAE 0.4972702697816776\n",
      "RMSE 0.6439599192522845\n"
     ]
    }
   ],
   "source": [
    "# 4. Print results\n",
    "print('Test Results:')\n",
    "print('R2 Score:', results['r2'])\n",
    "print('MSE:', results['mse'])\n",
    "print('MAE', results['mae'])\n",
    "print('RMSE', results['rmse'])"
   ]
  }
 ],
 "metadata": {
  "kernelspec": {
   "display_name": "base",
   "language": "python",
   "name": "python3"
  },
  "language_info": {
   "codemirror_mode": {
    "name": "ipython",
    "version": 3
   },
   "file_extension": ".py",
   "mimetype": "text/x-python",
   "name": "python",
   "nbconvert_exporter": "python",
   "pygments_lexer": "ipython3",
   "version": "3.11.3"
  }
 },
 "nbformat": 4,
 "nbformat_minor": 2
}
