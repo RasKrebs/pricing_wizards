{
 "cells": [
  {
   "cell_type": "markdown",
   "metadata": {},
   "source": [
    "```markdown\n",
    "This is just a notebook version of the train.py file. Use this to ensure training works as intended\n",
    "```"
   ]
  },
  {
   "cell_type": "code",
   "execution_count": 8,
   "metadata": {},
   "outputs": [],
   "source": [
    "# Library Import\n",
    "import pandas as pd\n",
    "from utils.Dataloader import PricingWizardDataset\n",
    "from utils.DataTransformation import base_regression_pipeline\n",
    "from models.base_linear_regression import linear_regression"
   ]
  },
  {
   "cell_type": "code",
   "execution_count": 9,
   "metadata": {},
   "outputs": [
    {
     "name": "stdout",
     "output_type": "stream",
     "text": [
      "Dataset Loaded: post_preprocessing_without_dummies\n",
      "\tNumber of Rows: 283055\n",
      "\tNumber of Columns: 22\n",
      "\tOutlier Removal: True\n",
      "\tTrain Size: 0.8\n",
      "\tTest Size: 0.2\n",
      "\tRandom State: 42\n"
     ]
    }
   ],
   "source": [
    "# Load data\n",
    "data = PricingWizardDataset()"
   ]
  },
  {
   "cell_type": "markdown",
   "metadata": {},
   "source": [
    "## Base Linear Regression"
   ]
  },
  {
   "cell_type": "code",
   "execution_count": 10,
   "metadata": {},
   "outputs": [
    {
     "name": "stdout",
     "output_type": "stream",
     "text": [
      "Applying data preparation...\n",
      "Done.\n"
     ]
    }
   ],
   "source": [
    "# 1. Data transformations\n",
    "print('Applying data preparation...')    \n",
    "data.apply_function(base_regression_pipeline)\n",
    "print('Done.')"
   ]
  },
  {
   "cell_type": "code",
   "execution_count": 11,
   "metadata": {},
   "outputs": [
    {
     "name": "stdout",
     "output_type": "stream",
     "text": [
      "Dependent variable distribution is equal across all subsets\n"
     ]
    }
   ],
   "source": [
    "# 2. Stratify Split\n",
    "data.stratify_train_test_split(y_column='log_listing_price', \n",
    "                               val_size=0,\n",
    "                               return_splits=False)"
   ]
  },
  {
   "cell_type": "code",
   "execution_count": 12,
   "metadata": {},
   "outputs": [
    {
     "name": "stdout",
     "output_type": "stream",
     "text": [
      "Test Results:\n",
      "R2 Score: 0.5741421546170012\n",
      "MSE: 0.41030475099260805\n",
      "MAE 0.4958842894677665\n",
      "RMSE 0.6405503500839009\n"
     ]
    }
   ],
   "source": [
    "# 3. Train model\n",
    "results = linear_regression(data)\n",
    "\n",
    "# 4. Print results\n",
    "print('Test Results:')\n",
    "print('R2 Score:', results['r2'])\n",
    "print('MSE:', results['mse'])\n",
    "print('MAE', results['mae'])\n",
    "print('RMSE', results['rmse'])"
   ]
  },
  {
   "cell_type": "markdown",
   "metadata": {},
   "source": [
    "## Linear Regression + Regularization"
   ]
  },
  {
   "cell_type": "code",
   "execution_count": null,
   "metadata": {},
   "outputs": [],
   "source": []
  }
 ],
 "metadata": {
  "kernelspec": {
   "display_name": "base",
   "language": "python",
   "name": "python3"
  },
  "language_info": {
   "codemirror_mode": {
    "name": "ipython",
    "version": 3
   },
   "file_extension": ".py",
   "mimetype": "text/x-python",
   "name": "python",
   "nbconvert_exporter": "python",
   "pygments_lexer": "ipython3",
   "version": "3.11.3"
  }
 },
 "nbformat": 4,
 "nbformat_minor": 2
}
